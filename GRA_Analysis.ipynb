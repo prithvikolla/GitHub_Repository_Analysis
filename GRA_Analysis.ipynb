{
  "nbformat": 4,
  "nbformat_minor": 0,
  "metadata": {
    "colab": {
      "name": "GRA_Analysis.ipynb",
      "provenance": [],
      "authorship_tag": "ABX9TyMJu0NwzC811V8xjVQ5bVuV",
      "include_colab_link": true
    },
    "kernelspec": {
      "name": "python3",
      "display_name": "Python 3"
    }
  },
  "cells": [
    {
      "cell_type": "markdown",
      "metadata": {
        "id": "view-in-github",
        "colab_type": "text"
      },
      "source": [
        "<a href=\"https://colab.research.google.com/github/prithvikolla/GitHub_Repository_Analysis/blob/main/GRA_Analysis.ipynb\" target=\"_parent\"><img src=\"https://colab.research.google.com/assets/colab-badge.svg\" alt=\"Open In Colab\"/></a>"
      ]
    },
    {
      "cell_type": "code",
      "metadata": {
        "id": "giYmFLPNdQVC"
      },
      "source": [
        "import pandas as pd\n",
        "\n",
        "import io\n",
        "\n",
        "import requests\n",
        "\n",
        "urlfile=\"https://raw.githubusercontent.com/prithvikolla/GitHub_Repository_Analysis/main/2015-01-01-0.csv\"\n",
        "\n",
        "url=requests.get(urlfile).content\n",
        "\n",
        "df_GRA =pd.read_csv(io.StringIO(url.decode('utf-8')))\n"
      ],
      "execution_count": null,
      "outputs": []
    },
    {
      "cell_type": "code",
      "metadata": {
        "id": "_hmj3mJMgbfq",
        "outputId": "4980a548-4540-4d26-c967-3bc28178a51a",
        "colab": {
          "base_uri": "https://localhost:8080/",
          "height": 338
        }
      },
      "source": [
        "df_GRA.head()"
      ],
      "execution_count": null,
      "outputs": [
        {
          "output_type": "execute_result",
          "data": {
            "text/html": [
              "<div>\n",
              "<style scoped>\n",
              "    .dataframe tbody tr th:only-of-type {\n",
              "        vertical-align: middle;\n",
              "    }\n",
              "\n",
              "    .dataframe tbody tr th {\n",
              "        vertical-align: top;\n",
              "    }\n",
              "\n",
              "    .dataframe thead th {\n",
              "        text-align: right;\n",
              "    }\n",
              "</style>\n",
              "<table border=\"1\" class=\"dataframe\">\n",
              "  <thead>\n",
              "    <tr style=\"text-align: right;\">\n",
              "      <th></th>\n",
              "      <th>id</th>\n",
              "      <th>type</th>\n",
              "      <th>actor.id</th>\n",
              "      <th>actor.login</th>\n",
              "      <th>actor.gravatar_id</th>\n",
              "      <th>actor.url</th>\n",
              "      <th>actor.avatar_url</th>\n",
              "      <th>repo.id</th>\n",
              "      <th>repo.name</th>\n",
              "      <th>repo.url</th>\n",
              "      <th>payload.push_id</th>\n",
              "      <th>payload.size</th>\n",
              "      <th>payload.distinct_size</th>\n",
              "      <th>payload.ref</th>\n",
              "      <th>payload.head</th>\n",
              "      <th>payload.before</th>\n",
              "      <th>payload.commits</th>\n",
              "      <th>payload.ref_type</th>\n",
              "      <th>payload.master_branch</th>\n",
              "      <th>payload.description</th>\n",
              "      <th>payload.pusher_type</th>\n",
              "      <th>payload.action</th>\n",
              "      <th>payload.issue.url</th>\n",
              "      <th>payload.issue.labels_url</th>\n",
              "      <th>payload.issue.comments_url</th>\n",
              "      <th>payload.issue.events_url</th>\n",
              "      <th>payload.issue.html_url</th>\n",
              "      <th>payload.issue.id</th>\n",
              "      <th>payload.issue.number</th>\n",
              "      <th>payload.issue.title</th>\n",
              "      <th>payload.issue.user.login</th>\n",
              "      <th>payload.issue.user.id</th>\n",
              "      <th>payload.issue.user.avatar_url</th>\n",
              "      <th>payload.issue.user.gravatar_id</th>\n",
              "      <th>payload.issue.user.url</th>\n",
              "      <th>payload.issue.user.html_url</th>\n",
              "      <th>payload.issue.user.followers_url</th>\n",
              "      <th>payload.issue.user.following_url</th>\n",
              "      <th>payload.issue.user.gists_url</th>\n",
              "      <th>payload.issue.user.starred_url</th>\n",
              "      <th>...</th>\n",
              "      <th>payload.pull_request.head.user.url</th>\n",
              "      <th>payload.pull_request.head.user.html_url</th>\n",
              "      <th>payload.pull_request.head.user.followers_url</th>\n",
              "      <th>payload.pull_request.head.user.following_url</th>\n",
              "      <th>payload.pull_request.head.user.gists_url</th>\n",
              "      <th>payload.pull_request.head.user.starred_url</th>\n",
              "      <th>payload.pull_request.head.user.subscriptions_url</th>\n",
              "      <th>payload.pull_request.head.user.organizations_url</th>\n",
              "      <th>payload.pull_request.head.user.repos_url</th>\n",
              "      <th>payload.pull_request.head.user.events_url</th>\n",
              "      <th>payload.pull_request.head.user.received_events_url</th>\n",
              "      <th>payload.pull_request.head.user.type</th>\n",
              "      <th>payload.pull_request.head.user.site_admin</th>\n",
              "      <th>payload.pull_request.head.repo.id</th>\n",
              "      <th>payload.pull_request.head.repo.name</th>\n",
              "      <th>payload.pull_request.head.repo.full_name</th>\n",
              "      <th>payload.pull_request.head.repo.owner.login</th>\n",
              "      <th>payload.pull_request.head.repo.owner.id</th>\n",
              "      <th>payload.pull_request.head.repo.owner.avatar_url</th>\n",
              "      <th>payload.pull_request.head.repo.owner.gravatar_id</th>\n",
              "      <th>payload.pull_request.head.repo.owner.url</th>\n",
              "      <th>payload.pull_request.head.repo.owner.html_url</th>\n",
              "      <th>payload.pull_request.head.repo.owner.followers_url</th>\n",
              "      <th>payload.pull_request.head.repo.owner.following_url</th>\n",
              "      <th>payload.pull_request.head.repo.owner.gists_url</th>\n",
              "      <th>payload.pull_request.head.repo.owner.starred_url</th>\n",
              "      <th>payload.pull_request.head.repo.owner.subscriptions_url</th>\n",
              "      <th>payload.pull_request.head.repo.owner.organizations_url</th>\n",
              "      <th>payload.pull_request.head.repo.owner.repos_url</th>\n",
              "      <th>payload.pull_request.head.repo.owner.events_url</th>\n",
              "      <th>payload.pull_request.head.repo.owner.received_events_url</th>\n",
              "      <th>payload.pull_request.head.repo.owner.type</th>\n",
              "      <th>payload.pull_request.head.repo.owner.site_admin</th>\n",
              "      <th>public</th>\n",
              "      <th>created_at</th>\n",
              "      <th>org.id</th>\n",
              "      <th>org.login</th>\n",
              "      <th>org.gravatar_id</th>\n",
              "      <th>org.url</th>\n",
              "      <th>org.avatar_url</th>\n",
              "    </tr>\n",
              "  </thead>\n",
              "  <tbody>\n",
              "    <tr>\n",
              "      <th>0</th>\n",
              "      <td>2489368070</td>\n",
              "      <td>PushEvent</td>\n",
              "      <td>9152315</td>\n",
              "      <td>davidjhulse</td>\n",
              "      <td>NaN</td>\n",
              "      <td>https://api.github.com/users/davidjhulse</td>\n",
              "      <td>https://avatars.githubusercontent.com/u/9152315?</td>\n",
              "      <td>28635890</td>\n",
              "      <td>davidjhulse/davesbingrewardsbot</td>\n",
              "      <td>https://api.github.com/repos/davidjhulse/daves...</td>\n",
              "      <td>536740396</td>\n",
              "      <td>1</td>\n",
              "      <td>1</td>\n",
              "      <td>refs/heads/master</td>\n",
              "      <td>a9b22a6d80c1e0bb49c1cf75a3c075b642c28f81</td>\n",
              "      <td>86ffa724b4d70fce46e760f8cc080f5ec3d7d85f</td>\n",
              "      <td>[{\"author\":{\"email\":\"da8d7d1118ca5befd4d0d3e4f...</td>\n",
              "      <td>\"\"</td>\n",
              "      <td>\"\"</td>\n",
              "      <td>\"\"</td>\n",
              "      <td>\"\"</td>\n",
              "      <td>\"\"</td>\n",
              "      <td>\"\"</td>\n",
              "      <td>\"\"</td>\n",
              "      <td>\"\"</td>\n",
              "      <td>\"\"</td>\n",
              "      <td>\"\"</td>\n",
              "      <td>\"\"</td>\n",
              "      <td>\"\"</td>\n",
              "      <td>\"\"</td>\n",
              "      <td>\"\"</td>\n",
              "      <td>\"\"</td>\n",
              "      <td>\"\"</td>\n",
              "      <td>\"\"</td>\n",
              "      <td>\"\"</td>\n",
              "      <td>\"\"</td>\n",
              "      <td>\"\"</td>\n",
              "      <td>\"\"</td>\n",
              "      <td>\"\"</td>\n",
              "      <td>\"\"</td>\n",
              "      <td>...</td>\n",
              "      <td>\"\"</td>\n",
              "      <td>\"\"</td>\n",
              "      <td>\"\"</td>\n",
              "      <td>\"\"</td>\n",
              "      <td>\"\"</td>\n",
              "      <td>\"\"</td>\n",
              "      <td>\"\"</td>\n",
              "      <td>\"\"</td>\n",
              "      <td>\"\"</td>\n",
              "      <td>\"\"</td>\n",
              "      <td>\"\"</td>\n",
              "      <td>\"\"</td>\n",
              "      <td>\"\"</td>\n",
              "      <td>\"\"</td>\n",
              "      <td>\"\"</td>\n",
              "      <td>\"\"</td>\n",
              "      <td>\"\"</td>\n",
              "      <td>\"\"</td>\n",
              "      <td>\"\"</td>\n",
              "      <td>\"\"</td>\n",
              "      <td>\"\"</td>\n",
              "      <td>\"\"</td>\n",
              "      <td>\"\"</td>\n",
              "      <td>\"\"</td>\n",
              "      <td>\"\"</td>\n",
              "      <td>\"\"</td>\n",
              "      <td>\"\"</td>\n",
              "      <td>\"\"</td>\n",
              "      <td>\"\"</td>\n",
              "      <td>\"\"</td>\n",
              "      <td>\"\"</td>\n",
              "      <td>\"\"</td>\n",
              "      <td>\"\"</td>\n",
              "      <td>True</td>\n",
              "      <td>2015-01-01T00:00:00Z</td>\n",
              "      <td>\"\"</td>\n",
              "      <td>\"\"</td>\n",
              "      <td>\"\"</td>\n",
              "      <td>\"\"</td>\n",
              "      <td>\"\"</td>\n",
              "    </tr>\n",
              "    <tr>\n",
              "      <th>1</th>\n",
              "      <td>2489368072</td>\n",
              "      <td>PushEvent</td>\n",
              "      <td>5581438</td>\n",
              "      <td>jmoon018</td>\n",
              "      <td>NaN</td>\n",
              "      <td>https://api.github.com/users/jmoon018</td>\n",
              "      <td>https://avatars.githubusercontent.com/u/5581438?</td>\n",
              "      <td>26392647</td>\n",
              "      <td>jmoon018/rshell-unit-tester</td>\n",
              "      <td>https://api.github.com/repos/jmoon018/rshell-u...</td>\n",
              "      <td>536740397</td>\n",
              "      <td>1</td>\n",
              "      <td>1</td>\n",
              "      <td>refs/heads/master</td>\n",
              "      <td>56688cc528224d40679b7e83c105b27367443a8c</td>\n",
              "      <td>d5a69a84e4d95c1c2cbc0a828172f9ce94db35c6</td>\n",
              "      <td>[{\"author\":{\"email\":\"61dcbbf08c9f7aaa2b1d0a9ce...</td>\n",
              "      <td>\"\"</td>\n",
              "      <td>\"\"</td>\n",
              "      <td>\"\"</td>\n",
              "      <td>\"\"</td>\n",
              "      <td>\"\"</td>\n",
              "      <td>\"\"</td>\n",
              "      <td>\"\"</td>\n",
              "      <td>\"\"</td>\n",
              "      <td>\"\"</td>\n",
              "      <td>\"\"</td>\n",
              "      <td>\"\"</td>\n",
              "      <td>\"\"</td>\n",
              "      <td>\"\"</td>\n",
              "      <td>\"\"</td>\n",
              "      <td>\"\"</td>\n",
              "      <td>\"\"</td>\n",
              "      <td>\"\"</td>\n",
              "      <td>\"\"</td>\n",
              "      <td>\"\"</td>\n",
              "      <td>\"\"</td>\n",
              "      <td>\"\"</td>\n",
              "      <td>\"\"</td>\n",
              "      <td>\"\"</td>\n",
              "      <td>...</td>\n",
              "      <td>\"\"</td>\n",
              "      <td>\"\"</td>\n",
              "      <td>\"\"</td>\n",
              "      <td>\"\"</td>\n",
              "      <td>\"\"</td>\n",
              "      <td>\"\"</td>\n",
              "      <td>\"\"</td>\n",
              "      <td>\"\"</td>\n",
              "      <td>\"\"</td>\n",
              "      <td>\"\"</td>\n",
              "      <td>\"\"</td>\n",
              "      <td>\"\"</td>\n",
              "      <td>\"\"</td>\n",
              "      <td>\"\"</td>\n",
              "      <td>\"\"</td>\n",
              "      <td>\"\"</td>\n",
              "      <td>\"\"</td>\n",
              "      <td>\"\"</td>\n",
              "      <td>\"\"</td>\n",
              "      <td>\"\"</td>\n",
              "      <td>\"\"</td>\n",
              "      <td>\"\"</td>\n",
              "      <td>\"\"</td>\n",
              "      <td>\"\"</td>\n",
              "      <td>\"\"</td>\n",
              "      <td>\"\"</td>\n",
              "      <td>\"\"</td>\n",
              "      <td>\"\"</td>\n",
              "      <td>\"\"</td>\n",
              "      <td>\"\"</td>\n",
              "      <td>\"\"</td>\n",
              "      <td>\"\"</td>\n",
              "      <td>\"\"</td>\n",
              "      <td>True</td>\n",
              "      <td>2015-01-01T00:00:00Z</td>\n",
              "      <td>\"\"</td>\n",
              "      <td>\"\"</td>\n",
              "      <td>\"\"</td>\n",
              "      <td>\"\"</td>\n",
              "      <td>\"\"</td>\n",
              "    </tr>\n",
              "    <tr>\n",
              "      <th>2</th>\n",
              "      <td>2489368089</td>\n",
              "      <td>CreateEvent</td>\n",
              "      <td>6352424</td>\n",
              "      <td>christoferpeterson</td>\n",
              "      <td>NaN</td>\n",
              "      <td>https://api.github.com/users/christoferpeterson</td>\n",
              "      <td>https://avatars.githubusercontent.com/u/6352424?</td>\n",
              "      <td>28677542</td>\n",
              "      <td>christoferpeterson/Vadek</td>\n",
              "      <td>https://api.github.com/repos/christoferpeterso...</td>\n",
              "      <td>\"\"</td>\n",
              "      <td>\"\"</td>\n",
              "      <td>\"\"</td>\n",
              "      <td>master</td>\n",
              "      <td>\"\"</td>\n",
              "      <td>\"\"</td>\n",
              "      <td>\"\"</td>\n",
              "      <td>branch</td>\n",
              "      <td>master</td>\n",
              "      <td>Making an HTML5 game from scratch.</td>\n",
              "      <td>user</td>\n",
              "      <td>\"\"</td>\n",
              "      <td>\"\"</td>\n",
              "      <td>\"\"</td>\n",
              "      <td>\"\"</td>\n",
              "      <td>\"\"</td>\n",
              "      <td>\"\"</td>\n",
              "      <td>\"\"</td>\n",
              "      <td>\"\"</td>\n",
              "      <td>\"\"</td>\n",
              "      <td>\"\"</td>\n",
              "      <td>\"\"</td>\n",
              "      <td>\"\"</td>\n",
              "      <td>\"\"</td>\n",
              "      <td>\"\"</td>\n",
              "      <td>\"\"</td>\n",
              "      <td>\"\"</td>\n",
              "      <td>\"\"</td>\n",
              "      <td>\"\"</td>\n",
              "      <td>\"\"</td>\n",
              "      <td>...</td>\n",
              "      <td>\"\"</td>\n",
              "      <td>\"\"</td>\n",
              "      <td>\"\"</td>\n",
              "      <td>\"\"</td>\n",
              "      <td>\"\"</td>\n",
              "      <td>\"\"</td>\n",
              "      <td>\"\"</td>\n",
              "      <td>\"\"</td>\n",
              "      <td>\"\"</td>\n",
              "      <td>\"\"</td>\n",
              "      <td>\"\"</td>\n",
              "      <td>\"\"</td>\n",
              "      <td>\"\"</td>\n",
              "      <td>\"\"</td>\n",
              "      <td>\"\"</td>\n",
              "      <td>\"\"</td>\n",
              "      <td>\"\"</td>\n",
              "      <td>\"\"</td>\n",
              "      <td>\"\"</td>\n",
              "      <td>\"\"</td>\n",
              "      <td>\"\"</td>\n",
              "      <td>\"\"</td>\n",
              "      <td>\"\"</td>\n",
              "      <td>\"\"</td>\n",
              "      <td>\"\"</td>\n",
              "      <td>\"\"</td>\n",
              "      <td>\"\"</td>\n",
              "      <td>\"\"</td>\n",
              "      <td>\"\"</td>\n",
              "      <td>\"\"</td>\n",
              "      <td>\"\"</td>\n",
              "      <td>\"\"</td>\n",
              "      <td>\"\"</td>\n",
              "      <td>True</td>\n",
              "      <td>2015-01-01T00:00:01Z</td>\n",
              "      <td>\"\"</td>\n",
              "      <td>\"\"</td>\n",
              "      <td>\"\"</td>\n",
              "      <td>\"\"</td>\n",
              "      <td>\"\"</td>\n",
              "    </tr>\n",
              "    <tr>\n",
              "      <th>3</th>\n",
              "      <td>2489368095</td>\n",
              "      <td>PushEvent</td>\n",
              "      <td>66577</td>\n",
              "      <td>JakeWharton</td>\n",
              "      <td>NaN</td>\n",
              "      <td>https://api.github.com/users/JakeWharton</td>\n",
              "      <td>https://avatars.githubusercontent.com/u/66577?</td>\n",
              "      <td>5152285</td>\n",
              "      <td>square/okhttp</td>\n",
              "      <td>https://api.github.com/repos/square/okhttp</td>\n",
              "      <td>536740405</td>\n",
              "      <td>8</td>\n",
              "      <td>1</td>\n",
              "      <td>refs/heads/jw/websocket-call</td>\n",
              "      <td>bc9aa8a0c999232d2675cf5ba60e9c9d03f2a806</td>\n",
              "      <td>8590ddf9fe54fe27d24f25dd66729993e63a5d61</td>\n",
              "      <td>[{\"author\":{\"email\":\"9ec2b9d5f2203d75c2b0f7885...</td>\n",
              "      <td>\"\"</td>\n",
              "      <td>\"\"</td>\n",
              "      <td>\"\"</td>\n",
              "      <td>\"\"</td>\n",
              "      <td>\"\"</td>\n",
              "      <td>\"\"</td>\n",
              "      <td>\"\"</td>\n",
              "      <td>\"\"</td>\n",
              "      <td>\"\"</td>\n",
              "      <td>\"\"</td>\n",
              "      <td>\"\"</td>\n",
              "      <td>\"\"</td>\n",
              "      <td>\"\"</td>\n",
              "      <td>\"\"</td>\n",
              "      <td>\"\"</td>\n",
              "      <td>\"\"</td>\n",
              "      <td>\"\"</td>\n",
              "      <td>\"\"</td>\n",
              "      <td>\"\"</td>\n",
              "      <td>\"\"</td>\n",
              "      <td>\"\"</td>\n",
              "      <td>\"\"</td>\n",
              "      <td>\"\"</td>\n",
              "      <td>...</td>\n",
              "      <td>\"\"</td>\n",
              "      <td>\"\"</td>\n",
              "      <td>\"\"</td>\n",
              "      <td>\"\"</td>\n",
              "      <td>\"\"</td>\n",
              "      <td>\"\"</td>\n",
              "      <td>\"\"</td>\n",
              "      <td>\"\"</td>\n",
              "      <td>\"\"</td>\n",
              "      <td>\"\"</td>\n",
              "      <td>\"\"</td>\n",
              "      <td>\"\"</td>\n",
              "      <td>\"\"</td>\n",
              "      <td>\"\"</td>\n",
              "      <td>\"\"</td>\n",
              "      <td>\"\"</td>\n",
              "      <td>\"\"</td>\n",
              "      <td>\"\"</td>\n",
              "      <td>\"\"</td>\n",
              "      <td>\"\"</td>\n",
              "      <td>\"\"</td>\n",
              "      <td>\"\"</td>\n",
              "      <td>\"\"</td>\n",
              "      <td>\"\"</td>\n",
              "      <td>\"\"</td>\n",
              "      <td>\"\"</td>\n",
              "      <td>\"\"</td>\n",
              "      <td>\"\"</td>\n",
              "      <td>\"\"</td>\n",
              "      <td>\"\"</td>\n",
              "      <td>\"\"</td>\n",
              "      <td>\"\"</td>\n",
              "      <td>\"\"</td>\n",
              "      <td>True</td>\n",
              "      <td>2015-01-01T00:00:01Z</td>\n",
              "      <td>82592</td>\n",
              "      <td>square</td>\n",
              "      <td>NaN</td>\n",
              "      <td>https://api.github.com/orgs/square</td>\n",
              "      <td>https://avatars.githubusercontent.com/u/82592?</td>\n",
              "    </tr>\n",
              "    <tr>\n",
              "      <th>4</th>\n",
              "      <td>2489368104</td>\n",
              "      <td>PushEvent</td>\n",
              "      <td>9221683</td>\n",
              "      <td>git4ruby</td>\n",
              "      <td>NaN</td>\n",
              "      <td>https://api.github.com/users/git4ruby</td>\n",
              "      <td>https://avatars.githubusercontent.com/u/9221683?</td>\n",
              "      <td>28520835</td>\n",
              "      <td>git4ruby/movie_review1</td>\n",
              "      <td>https://api.github.com/repos/git4ruby/movie_re...</td>\n",
              "      <td>536740413</td>\n",
              "      <td>1</td>\n",
              "      <td>1</td>\n",
              "      <td>refs/heads/master</td>\n",
              "      <td>97a402b54bfd562b8cefd11f1361cd5af41b0535</td>\n",
              "      <td>bc6e2f2a7d2095f8881d44d737506c14c1e07561</td>\n",
              "      <td>[{\"author\":{\"email\":\"0b727f1f5f209fb32b7d5f0f0...</td>\n",
              "      <td>\"\"</td>\n",
              "      <td>\"\"</td>\n",
              "      <td>\"\"</td>\n",
              "      <td>\"\"</td>\n",
              "      <td>\"\"</td>\n",
              "      <td>\"\"</td>\n",
              "      <td>\"\"</td>\n",
              "      <td>\"\"</td>\n",
              "      <td>\"\"</td>\n",
              "      <td>\"\"</td>\n",
              "      <td>\"\"</td>\n",
              "      <td>\"\"</td>\n",
              "      <td>\"\"</td>\n",
              "      <td>\"\"</td>\n",
              "      <td>\"\"</td>\n",
              "      <td>\"\"</td>\n",
              "      <td>\"\"</td>\n",
              "      <td>\"\"</td>\n",
              "      <td>\"\"</td>\n",
              "      <td>\"\"</td>\n",
              "      <td>\"\"</td>\n",
              "      <td>\"\"</td>\n",
              "      <td>\"\"</td>\n",
              "      <td>...</td>\n",
              "      <td>\"\"</td>\n",
              "      <td>\"\"</td>\n",
              "      <td>\"\"</td>\n",
              "      <td>\"\"</td>\n",
              "      <td>\"\"</td>\n",
              "      <td>\"\"</td>\n",
              "      <td>\"\"</td>\n",
              "      <td>\"\"</td>\n",
              "      <td>\"\"</td>\n",
              "      <td>\"\"</td>\n",
              "      <td>\"\"</td>\n",
              "      <td>\"\"</td>\n",
              "      <td>\"\"</td>\n",
              "      <td>\"\"</td>\n",
              "      <td>\"\"</td>\n",
              "      <td>\"\"</td>\n",
              "      <td>\"\"</td>\n",
              "      <td>\"\"</td>\n",
              "      <td>\"\"</td>\n",
              "      <td>\"\"</td>\n",
              "      <td>\"\"</td>\n",
              "      <td>\"\"</td>\n",
              "      <td>\"\"</td>\n",
              "      <td>\"\"</td>\n",
              "      <td>\"\"</td>\n",
              "      <td>\"\"</td>\n",
              "      <td>\"\"</td>\n",
              "      <td>\"\"</td>\n",
              "      <td>\"\"</td>\n",
              "      <td>\"\"</td>\n",
              "      <td>\"\"</td>\n",
              "      <td>\"\"</td>\n",
              "      <td>\"\"</td>\n",
              "      <td>True</td>\n",
              "      <td>2015-01-01T00:00:03Z</td>\n",
              "      <td>\"\"</td>\n",
              "      <td>\"\"</td>\n",
              "      <td>\"\"</td>\n",
              "      <td>\"\"</td>\n",
              "      <td>\"\"</td>\n",
              "    </tr>\n",
              "  </tbody>\n",
              "</table>\n",
              "<p>5 rows × 182 columns</p>\n",
              "</div>"
            ],
            "text/plain": [
              "           id  ...                                  org.avatar_url\n",
              "0  2489368070  ...                                              \"\"\n",
              "1  2489368072  ...                                              \"\"\n",
              "2  2489368089  ...                                              \"\"\n",
              "3  2489368095  ...  https://avatars.githubusercontent.com/u/82592?\n",
              "4  2489368104  ...                                              \"\"\n",
              "\n",
              "[5 rows x 182 columns]"
            ]
          },
          "metadata": {
            "tags": []
          },
          "execution_count": 2
        }
      ]
    },
    {
      "cell_type": "code",
      "metadata": {
        "id": "ZTs7O15ugl4f",
        "outputId": "b4762e97-d45d-4eb2-ce6a-d4139655a365",
        "colab": {
          "base_uri": "https://localhost:8080/"
        }
      },
      "source": [
        "df_GRA.info()"
      ],
      "execution_count": null,
      "outputs": [
        {
          "output_type": "stream",
          "text": [
            "<class 'pandas.core.frame.DataFrame'>\n",
            "RangeIndex: 7702 entries, 0 to 7701\n",
            "Columns: 182 entries, id to org.avatar_url\n",
            "dtypes: bool(1), float64(1), int64(3), object(177)\n",
            "memory usage: 10.6+ MB\n"
          ],
          "name": "stdout"
        }
      ]
    },
    {
      "cell_type": "code",
      "metadata": {
        "id": "6rpmwiQ3hIa7"
      },
      "source": [
        "unique_actors = list (df_GRA['actor.login'].unique())"
      ],
      "execution_count": null,
      "outputs": []
    },
    {
      "cell_type": "code",
      "metadata": {
        "id": "s3FqeLy7hZQB",
        "outputId": "fdf4005f-6583-4fb5-c02d-f1ea1f35adb6",
        "colab": {
          "base_uri": "https://localhost:8080/"
        }
      },
      "source": [
        "len(unique_actors)"
      ],
      "execution_count": null,
      "outputs": [
        {
          "output_type": "execute_result",
          "data": {
            "text/plain": [
              "3648"
            ]
          },
          "metadata": {
            "tags": []
          },
          "execution_count": 5
        }
      ]
    },
    {
      "cell_type": "code",
      "metadata": {
        "id": "EEMDc3rVhwZq",
        "outputId": "d731c003-6496-49a1-8c31-5b9a7af24306",
        "colab": {
          "base_uri": "https://localhost:8080/"
        }
      },
      "source": [
        "len(df_GRA['actor.id'].unique())"
      ],
      "execution_count": null,
      "outputs": [
        {
          "output_type": "execute_result",
          "data": {
            "text/plain": [
              "3648"
            ]
          },
          "metadata": {
            "tags": []
          },
          "execution_count": 6
        }
      ]
    },
    {
      "cell_type": "markdown",
      "metadata": {
        "id": "VtC_ctTBMMtc"
      },
      "source": [
        "1. How many unique contributors for each group?\n",
        "\n",
        "- Contributors can be inferred as , users who have done push event and finding the distinct users by \"actor.id\" attribute and \"type\" attribute."
      ]
    },
    {
      "cell_type": "code",
      "metadata": {
        "id": "hPnawFU4h8m6"
      },
      "source": [
        "id = [ ]\n",
        "for i in range(len(df_GRA['type'])): \n",
        "  if (df_GRA['type'][i] == 'PushEvent'):\n",
        "    id.append(df_GRA['actor.id'][i])"
      ],
      "execution_count": null,
      "outputs": []
    },
    {
      "cell_type": "code",
      "metadata": {
        "id": "RjIsAG-ucxoa"
      },
      "source": [
        "def uniq(input):\n",
        "  output = [ ]\n",
        "  for x in input:\n",
        "    if x not in output:\n",
        "      output.append(x)\n",
        "  return output\n",
        "id_unique = uniq(input = id)"
      ],
      "execution_count": null,
      "outputs": []
    },
    {
      "cell_type": "code",
      "metadata": {
        "id": "AupI4cQ3dfw_",
        "outputId": "d784f1df-efdb-41d5-9892-9f50a651c105",
        "colab": {
          "base_uri": "https://localhost:8080/"
        }
      },
      "source": [
        "len(id_unique)"
      ],
      "execution_count": null,
      "outputs": [
        {
          "output_type": "execute_result",
          "data": {
            "text/plain": [
              "2327"
            ]
          },
          "metadata": {
            "tags": []
          },
          "execution_count": 9
        }
      ]
    },
    {
      "cell_type": "code",
      "metadata": {
        "id": "yKHPYO6qeceb",
        "outputId": "e9c9ad5f-0926-47c3-820f-2ceac1071d70",
        "colab": {
          "base_uri": "https://localhost:8080/"
        }
      },
      "source": [
        "print(len(id) == len(id_unique))"
      ],
      "execution_count": null,
      "outputs": [
        {
          "output_type": "stream",
          "text": [
            "False\n"
          ],
          "name": "stdout"
        }
      ]
    },
    {
      "cell_type": "markdown",
      "metadata": {
        "id": "-Rxo8f85flcU"
      },
      "source": [
        "hence, all the push events done have same user contributing multiple times\n",
        "\n",
        "- so, number of unique contributions are 2327 by the analysis done till now."
      ]
    },
    {
      "cell_type": "markdown",
      "metadata": {
        "id": "tS9SWA1khjJG"
      },
      "source": [
        "2. What's the distribution of the number of contributors among the all projects here? \n",
        " - what is the mean?\n",
        " - what is the standard deviation? \n",
        " - Is it a normal distribution?"
      ]
    },
    {
      "cell_type": "code",
      "metadata": {
        "id": "mH4GUIxCfjA6"
      },
      "source": [
        "from nltk import Counter"
      ],
      "execution_count": null,
      "outputs": []
    },
    {
      "cell_type": "code",
      "metadata": {
        "id": "D9X6DIGViRa6"
      },
      "source": [
        "event_Count = Counter(df_GRA['type'])"
      ],
      "execution_count": null,
      "outputs": []
    },
    {
      "cell_type": "code",
      "metadata": {
        "id": "EPwyX9NRjldK",
        "outputId": "b70ee083-620a-4f51-9486-561fb50fd02e",
        "colab": {
          "base_uri": "https://localhost:8080/"
        }
      },
      "source": [
        "event_Count.most_common()"
      ],
      "execution_count": null,
      "outputs": [
        {
          "output_type": "execute_result",
          "data": {
            "text/plain": [
              "[('PushEvent', 4280),\n",
              " ('CreateEvent', 815),\n",
              " ('IssueCommentEvent', 650),\n",
              " ('WatchEvent', 642),\n",
              " ('IssuesEvent', 373),\n",
              " ('PullRequestEvent', 315),\n",
              " ('ForkEvent', 213),\n",
              " ('DeleteEvent', 141),\n",
              " ('GollumEvent', 90),\n",
              " ('PullRequestReviewCommentEvent', 85),\n",
              " ('CommitCommentEvent', 56),\n",
              " ('ReleaseEvent', 24),\n",
              " ('MemberEvent', 16),\n",
              " ('PublicEvent', 2)]"
            ]
          },
          "metadata": {
            "tags": []
          },
          "execution_count": 13
        }
      ]
    },
    {
      "cell_type": "markdown",
      "metadata": {
        "id": "lDy06xJWkEOb"
      },
      "source": [
        "As we can see,In the top 3 common events done in Github. We find that users did largely \"Push Event\" and the second one is \"Create Event\""
      ]
    },
    {
      "cell_type": "code",
      "metadata": {
        "id": "6BZBSuL3npL5"
      },
      "source": [
        "#Check wether we have entire columns in the whole data set with null data.\n",
        "null_data = pd.DataFrame()\n",
        "for i in df_GRA.columns:\n",
        "  if (len(df_GRA[i])== 0):\n",
        "    null_data.insert(0,i,df_GRA[i])"
      ],
      "execution_count": null,
      "outputs": []
    },
    {
      "cell_type": "code",
      "metadata": {
        "id": "UPIZoBIhntT-",
        "outputId": "e435d190-3769-4468-b31e-c7b50d9ce9c4",
        "colab": {
          "base_uri": "https://localhost:8080/"
        }
      },
      "source": [
        "len(null_data)\n",
        "## No we do not have entire data columns in the whole data set with null values."
      ],
      "execution_count": null,
      "outputs": [
        {
          "output_type": "execute_result",
          "data": {
            "text/plain": [
              "0"
            ]
          },
          "metadata": {
            "tags": []
          },
          "execution_count": 15
        }
      ]
    },
    {
      "cell_type": "code",
      "metadata": {
        "id": "loJrPvo4oXNU"
      },
      "source": [
        "user_ID = [ ]\n",
        "repo_ID = [ ]\n",
        "for i in range(len(df_GRA)):\n",
        " if (df_GRA['type'][i] == 'PushEvent'):\n",
        "   user_ID.append(df_GRA['actor.id'][i])\n",
        "   repo_ID.append(df_GRA['repo.id'][i])\n",
        "import matplotlib.pyplot as plt\n",
        "from nltk import Counter\n",
        "count_ID = Counter(user_ID)\n",
        "top_10_ID  = count_ID.most_common(10)"
      ],
      "execution_count": null,
      "outputs": []
    },
    {
      "cell_type": "code",
      "metadata": {
        "id": "YhEzFWX_zZSB",
        "outputId": "808392e1-2a66-40ae-c291-3eb6408b9e53",
        "colab": {
          "base_uri": "https://localhost:8080/"
        }
      },
      "source": [
        "top_10_ID[:3]"
      ],
      "execution_count": null,
      "outputs": [
        {
          "output_type": "execute_result",
          "data": {
            "text/plain": [
              "[(280212, 79), (2033581, 42), (367618, 35)]"
            ]
          },
          "metadata": {
            "tags": []
          },
          "execution_count": 17
        }
      ]
    },
    {
      "cell_type": "code",
      "metadata": {
        "id": "-oEFT-N4zamN"
      },
      "source": [
        "dicti_ry = {k: v for k, v in top_10_ID}"
      ],
      "execution_count": null,
      "outputs": []
    },
    {
      "cell_type": "code",
      "metadata": {
        "id": "i3Fj96Z917G9"
      },
      "source": [
        "list_Top10_User = pd.DataFrame({'top10_userID': list (dicti_ry.keys()),'Num_PusEve' :  list (dicti_ry.values())})\n"
      ],
      "execution_count": null,
      "outputs": []
    },
    {
      "cell_type": "markdown",
      "metadata": {
        "id": "bPqrDDCyLzlR"
      },
      "source": [
        "The above result shows the top 10 users who contributed for all the projects"
      ]
    },
    {
      "cell_type": "code",
      "metadata": {
        "id": "vxbXqOWa2Dkx",
        "outputId": "1c10f884-54b9-4503-8922-b12702a984ec",
        "colab": {
          "base_uri": "https://localhost:8080/",
          "height": 359
        }
      },
      "source": [
        "list_Top10_User"
      ],
      "execution_count": null,
      "outputs": [
        {
          "output_type": "execute_result",
          "data": {
            "text/html": [
              "<div>\n",
              "<style scoped>\n",
              "    .dataframe tbody tr th:only-of-type {\n",
              "        vertical-align: middle;\n",
              "    }\n",
              "\n",
              "    .dataframe tbody tr th {\n",
              "        vertical-align: top;\n",
              "    }\n",
              "\n",
              "    .dataframe thead th {\n",
              "        text-align: right;\n",
              "    }\n",
              "</style>\n",
              "<table border=\"1\" class=\"dataframe\">\n",
              "  <thead>\n",
              "    <tr style=\"text-align: right;\">\n",
              "      <th></th>\n",
              "      <th>top10_userID</th>\n",
              "      <th>Num_PusEve</th>\n",
              "    </tr>\n",
              "  </thead>\n",
              "  <tbody>\n",
              "    <tr>\n",
              "      <th>0</th>\n",
              "      <td>280212</td>\n",
              "      <td>79</td>\n",
              "    </tr>\n",
              "    <tr>\n",
              "      <th>1</th>\n",
              "      <td>2033581</td>\n",
              "      <td>42</td>\n",
              "    </tr>\n",
              "    <tr>\n",
              "      <th>2</th>\n",
              "      <td>367618</td>\n",
              "      <td>35</td>\n",
              "    </tr>\n",
              "    <tr>\n",
              "      <th>3</th>\n",
              "      <td>9201970</td>\n",
              "      <td>29</td>\n",
              "    </tr>\n",
              "    <tr>\n",
              "      <th>4</th>\n",
              "      <td>6158630</td>\n",
              "      <td>24</td>\n",
              "    </tr>\n",
              "    <tr>\n",
              "      <th>5</th>\n",
              "      <td>9452791</td>\n",
              "      <td>24</td>\n",
              "    </tr>\n",
              "    <tr>\n",
              "      <th>6</th>\n",
              "      <td>1684950</td>\n",
              "      <td>20</td>\n",
              "    </tr>\n",
              "    <tr>\n",
              "      <th>7</th>\n",
              "      <td>1181205</td>\n",
              "      <td>18</td>\n",
              "    </tr>\n",
              "    <tr>\n",
              "      <th>8</th>\n",
              "      <td>6214365</td>\n",
              "      <td>18</td>\n",
              "    </tr>\n",
              "    <tr>\n",
              "      <th>9</th>\n",
              "      <td>50891</td>\n",
              "      <td>15</td>\n",
              "    </tr>\n",
              "  </tbody>\n",
              "</table>\n",
              "</div>"
            ],
            "text/plain": [
              "   top10_userID  Num_PusEve\n",
              "0        280212          79\n",
              "1       2033581          42\n",
              "2        367618          35\n",
              "3       9201970          29\n",
              "4       6158630          24\n",
              "5       9452791          24\n",
              "6       1684950          20\n",
              "7       1181205          18\n",
              "8       6214365          18\n",
              "9         50891          15"
            ]
          },
          "metadata": {
            "tags": []
          },
          "execution_count": 20
        }
      ]
    },
    {
      "cell_type": "code",
      "metadata": {
        "id": "W-yZvpFO3Q5D"
      },
      "source": [
        "\n",
        "df_Push = df_GRA[df_GRA['type'] == 'PushEvent']"
      ],
      "execution_count": null,
      "outputs": []
    },
    {
      "cell_type": "code",
      "metadata": {
        "id": "aBjZRTZXIPgJ"
      },
      "source": [
        "group = df_Push.groupby('actor.id')\n",
        "df_u = group.apply(lambda x: x['repo.id'].unique())"
      ],
      "execution_count": null,
      "outputs": []
    },
    {
      "cell_type": "code",
      "metadata": {
        "id": "c-S47_QxKWev"
      },
      "source": [
        "my_li = list (set(df_Push['actor.id']))"
      ],
      "execution_count": null,
      "outputs": []
    },
    {
      "cell_type": "code",
      "metadata": {
        "id": "5SNsAFi_LYTb",
        "outputId": "39500b2c-d6eb-4e4a-8277-9fb79f56a67f",
        "colab": {
          "base_uri": "https://localhost:8080/"
        }
      },
      "source": [
        "df_u"
      ],
      "execution_count": null,
      "outputs": [
        {
          "output_type": "execute_result",
          "data": {
            "text/plain": [
              "actor.id\n",
              "7                       [538746]\n",
              "137                   [28648528]\n",
              "375         [28546246, 28574862]\n",
              "1106                   [2393766]\n",
              "1377                  [28646975]\n",
              "                    ...         \n",
              "10361273              [28677442]\n",
              "10361298              [28677764]\n",
              "10361312              [28677674]\n",
              "10361315              [28677587]\n",
              "10361338              [28677651]\n",
              "Length: 2327, dtype: object"
            ]
          },
          "metadata": {
            "tags": []
          },
          "execution_count": 24
        }
      ]
    },
    {
      "cell_type": "code",
      "metadata": {
        "id": "Ga7KIOG6PHae"
      },
      "source": [
        "val = [x for x in df_u]"
      ],
      "execution_count": null,
      "outputs": []
    },
    {
      "cell_type": "code",
      "metadata": {
        "id": "VqTM03_kLEEO"
      },
      "source": [
        "li = pd.DataFrame({'user_push': sorted(my_li),'rep_user':val})"
      ],
      "execution_count": null,
      "outputs": []
    },
    {
      "cell_type": "code",
      "metadata": {
        "id": "0FDmATN3LtXI",
        "outputId": "b802290b-dc54-432d-935e-d0cdc49f1e22",
        "colab": {
          "base_uri": "https://localhost:8080/",
          "height": 204
        }
      },
      "source": [
        "li.head()"
      ],
      "execution_count": null,
      "outputs": [
        {
          "output_type": "execute_result",
          "data": {
            "text/html": [
              "<div>\n",
              "<style scoped>\n",
              "    .dataframe tbody tr th:only-of-type {\n",
              "        vertical-align: middle;\n",
              "    }\n",
              "\n",
              "    .dataframe tbody tr th {\n",
              "        vertical-align: top;\n",
              "    }\n",
              "\n",
              "    .dataframe thead th {\n",
              "        text-align: right;\n",
              "    }\n",
              "</style>\n",
              "<table border=\"1\" class=\"dataframe\">\n",
              "  <thead>\n",
              "    <tr style=\"text-align: right;\">\n",
              "      <th></th>\n",
              "      <th>user_push</th>\n",
              "      <th>rep_user</th>\n",
              "    </tr>\n",
              "  </thead>\n",
              "  <tbody>\n",
              "    <tr>\n",
              "      <th>0</th>\n",
              "      <td>7</td>\n",
              "      <td>[538746]</td>\n",
              "    </tr>\n",
              "    <tr>\n",
              "      <th>1</th>\n",
              "      <td>137</td>\n",
              "      <td>[28648528]</td>\n",
              "    </tr>\n",
              "    <tr>\n",
              "      <th>2</th>\n",
              "      <td>375</td>\n",
              "      <td>[28546246, 28574862]</td>\n",
              "    </tr>\n",
              "    <tr>\n",
              "      <th>3</th>\n",
              "      <td>1106</td>\n",
              "      <td>[2393766]</td>\n",
              "    </tr>\n",
              "    <tr>\n",
              "      <th>4</th>\n",
              "      <td>1377</td>\n",
              "      <td>[28646975]</td>\n",
              "    </tr>\n",
              "  </tbody>\n",
              "</table>\n",
              "</div>"
            ],
            "text/plain": [
              "   user_push              rep_user\n",
              "0          7              [538746]\n",
              "1        137            [28648528]\n",
              "2        375  [28546246, 28574862]\n",
              "3       1106             [2393766]\n",
              "4       1377            [28646975]"
            ]
          },
          "metadata": {
            "tags": []
          },
          "execution_count": 27
        }
      ]
    },
    {
      "cell_type": "code",
      "metadata": {
        "id": "wYmuVEH5MV0u"
      },
      "source": [
        "arr = [ ]\n",
        "for i in range(len(list_Top10_User)):\n",
        "  for j in range(len(li)):\n",
        "    if (list_Top10_User['top10_userID'][i] == li['user_push'][j]):\n",
        "       arr.append(li['rep_user'][j])\n"
      ],
      "execution_count": null,
      "outputs": []
    },
    {
      "cell_type": "code",
      "metadata": {
        "id": "PGN_z07gP_R6",
        "outputId": "b9b089c7-d228-4f38-924a-7d8859a93ccf",
        "colab": {
          "base_uri": "https://localhost:8080/"
        }
      },
      "source": [
        "arr"
      ],
      "execution_count": null,
      "outputs": [
        {
          "output_type": "execute_result",
          "data": {
            "text/plain": [
              "[array([21481110]),\n",
              " array([6058151, 6058123, 6058234, 6031942]),\n",
              " array([  756568,   860274, 14148013, 11673915,   747311,   779156,\n",
              "         6485371, 23811389,   756841,  2387146,  2387049,  5054494,\n",
              "        10040198, 10038467,  6756500, 10039899,  8694598, 11672686,\n",
              "        26532168, 16819408,  6756503]),\n",
              " array([25173910]),\n",
              " array([18126008, 15100395]),\n",
              " array([28676949, 28677711, 25941039, 26978339, 25940223]),\n",
              " array([28650038]),\n",
              " array([28657751]),\n",
              " array([28669435]),\n",
              " array([28677563, 23131813, 26407499])]"
            ]
          },
          "metadata": {
            "tags": []
          },
          "execution_count": 29
        }
      ]
    },
    {
      "cell_type": "code",
      "metadata": {
        "id": "i_OyvLobQB34"
      },
      "source": [
        "list_Top10_User['rep_pushOcc'] = arr\n",
        "list_Top10_User['rep_Count'] = list_Top10_User['rep_pushOcc'].apply(lambda x: len(x))"
      ],
      "execution_count": null,
      "outputs": []
    },
    {
      "cell_type": "code",
      "metadata": {
        "id": "08r0T97WQVt4",
        "outputId": "30ac5c71-3d74-41e0-80d3-66ec7a15b120",
        "colab": {
          "base_uri": "https://localhost:8080/",
          "height": 359
        }
      },
      "source": [
        "list_Top10_User"
      ],
      "execution_count": null,
      "outputs": [
        {
          "output_type": "execute_result",
          "data": {
            "text/html": [
              "<div>\n",
              "<style scoped>\n",
              "    .dataframe tbody tr th:only-of-type {\n",
              "        vertical-align: middle;\n",
              "    }\n",
              "\n",
              "    .dataframe tbody tr th {\n",
              "        vertical-align: top;\n",
              "    }\n",
              "\n",
              "    .dataframe thead th {\n",
              "        text-align: right;\n",
              "    }\n",
              "</style>\n",
              "<table border=\"1\" class=\"dataframe\">\n",
              "  <thead>\n",
              "    <tr style=\"text-align: right;\">\n",
              "      <th></th>\n",
              "      <th>top10_userID</th>\n",
              "      <th>Num_PusEve</th>\n",
              "      <th>rep_pushOcc</th>\n",
              "      <th>rep_Count</th>\n",
              "    </tr>\n",
              "  </thead>\n",
              "  <tbody>\n",
              "    <tr>\n",
              "      <th>0</th>\n",
              "      <td>280212</td>\n",
              "      <td>79</td>\n",
              "      <td>[21481110]</td>\n",
              "      <td>1</td>\n",
              "    </tr>\n",
              "    <tr>\n",
              "      <th>1</th>\n",
              "      <td>2033581</td>\n",
              "      <td>42</td>\n",
              "      <td>[6058151, 6058123, 6058234, 6031942]</td>\n",
              "      <td>4</td>\n",
              "    </tr>\n",
              "    <tr>\n",
              "      <th>2</th>\n",
              "      <td>367618</td>\n",
              "      <td>35</td>\n",
              "      <td>[756568, 860274, 14148013, 11673915, 747311, 7...</td>\n",
              "      <td>21</td>\n",
              "    </tr>\n",
              "    <tr>\n",
              "      <th>3</th>\n",
              "      <td>9201970</td>\n",
              "      <td>29</td>\n",
              "      <td>[25173910]</td>\n",
              "      <td>1</td>\n",
              "    </tr>\n",
              "    <tr>\n",
              "      <th>4</th>\n",
              "      <td>6158630</td>\n",
              "      <td>24</td>\n",
              "      <td>[18126008, 15100395]</td>\n",
              "      <td>2</td>\n",
              "    </tr>\n",
              "    <tr>\n",
              "      <th>5</th>\n",
              "      <td>9452791</td>\n",
              "      <td>24</td>\n",
              "      <td>[28676949, 28677711, 25941039, 26978339, 25940...</td>\n",
              "      <td>5</td>\n",
              "    </tr>\n",
              "    <tr>\n",
              "      <th>6</th>\n",
              "      <td>1684950</td>\n",
              "      <td>20</td>\n",
              "      <td>[28650038]</td>\n",
              "      <td>1</td>\n",
              "    </tr>\n",
              "    <tr>\n",
              "      <th>7</th>\n",
              "      <td>1181205</td>\n",
              "      <td>18</td>\n",
              "      <td>[28657751]</td>\n",
              "      <td>1</td>\n",
              "    </tr>\n",
              "    <tr>\n",
              "      <th>8</th>\n",
              "      <td>6214365</td>\n",
              "      <td>18</td>\n",
              "      <td>[28669435]</td>\n",
              "      <td>1</td>\n",
              "    </tr>\n",
              "    <tr>\n",
              "      <th>9</th>\n",
              "      <td>50891</td>\n",
              "      <td>15</td>\n",
              "      <td>[28677563, 23131813, 26407499]</td>\n",
              "      <td>3</td>\n",
              "    </tr>\n",
              "  </tbody>\n",
              "</table>\n",
              "</div>"
            ],
            "text/plain": [
              "   top10_userID  ...  rep_Count\n",
              "0        280212  ...          1\n",
              "1       2033581  ...          4\n",
              "2        367618  ...         21\n",
              "3       9201970  ...          1\n",
              "4       6158630  ...          2\n",
              "5       9452791  ...          5\n",
              "6       1684950  ...          1\n",
              "7       1181205  ...          1\n",
              "8       6214365  ...          1\n",
              "9         50891  ...          3\n",
              "\n",
              "[10 rows x 4 columns]"
            ]
          },
          "metadata": {
            "tags": []
          },
          "execution_count": 31
        }
      ]
    },
    {
      "cell_type": "markdown",
      "metadata": {
        "id": "BOqwpPfiSJaa"
      },
      "source": [
        "From the above table I wanted to show the top 10 contributors and how many projects they were working on.\n",
        "\n",
        "we see that,\n",
        "\n",
        "1. user: 367618 was working parallely in more than 20 projects.\n",
        "2. user: 28021 worked only on one project and even though push events performed are highest, we cannot conclude that he is the highest contributor among the 10 without considering other factors like length of code contributed per push event."
      ]
    },
    {
      "cell_type": "code",
      "metadata": {
        "id": "GN07NLFuQWmV"
      },
      "source": [
        "li['rep_Count'] = li['rep_user'].apply(lambda x: len(x))"
      ],
      "execution_count": null,
      "outputs": []
    },
    {
      "cell_type": "code",
      "metadata": {
        "id": "ssUxPpucVTJM",
        "outputId": "f648b7fe-e3fb-48d1-f506-edea38d613a9",
        "colab": {
          "base_uri": "https://localhost:8080/",
          "height": 204
        }
      },
      "source": [
        "li.head()"
      ],
      "execution_count": null,
      "outputs": [
        {
          "output_type": "execute_result",
          "data": {
            "text/html": [
              "<div>\n",
              "<style scoped>\n",
              "    .dataframe tbody tr th:only-of-type {\n",
              "        vertical-align: middle;\n",
              "    }\n",
              "\n",
              "    .dataframe tbody tr th {\n",
              "        vertical-align: top;\n",
              "    }\n",
              "\n",
              "    .dataframe thead th {\n",
              "        text-align: right;\n",
              "    }\n",
              "</style>\n",
              "<table border=\"1\" class=\"dataframe\">\n",
              "  <thead>\n",
              "    <tr style=\"text-align: right;\">\n",
              "      <th></th>\n",
              "      <th>user_push</th>\n",
              "      <th>rep_user</th>\n",
              "      <th>rep_Count</th>\n",
              "    </tr>\n",
              "  </thead>\n",
              "  <tbody>\n",
              "    <tr>\n",
              "      <th>0</th>\n",
              "      <td>7</td>\n",
              "      <td>[538746]</td>\n",
              "      <td>1</td>\n",
              "    </tr>\n",
              "    <tr>\n",
              "      <th>1</th>\n",
              "      <td>137</td>\n",
              "      <td>[28648528]</td>\n",
              "      <td>1</td>\n",
              "    </tr>\n",
              "    <tr>\n",
              "      <th>2</th>\n",
              "      <td>375</td>\n",
              "      <td>[28546246, 28574862]</td>\n",
              "      <td>2</td>\n",
              "    </tr>\n",
              "    <tr>\n",
              "      <th>3</th>\n",
              "      <td>1106</td>\n",
              "      <td>[2393766]</td>\n",
              "      <td>1</td>\n",
              "    </tr>\n",
              "    <tr>\n",
              "      <th>4</th>\n",
              "      <td>1377</td>\n",
              "      <td>[28646975]</td>\n",
              "      <td>1</td>\n",
              "    </tr>\n",
              "  </tbody>\n",
              "</table>\n",
              "</div>"
            ],
            "text/plain": [
              "   user_push              rep_user  rep_Count\n",
              "0          7              [538746]          1\n",
              "1        137            [28648528]          1\n",
              "2        375  [28546246, 28574862]          2\n",
              "3       1106             [2393766]          1\n",
              "4       1377            [28646975]          1"
            ]
          },
          "metadata": {
            "tags": []
          },
          "execution_count": 33
        }
      ]
    },
    {
      "cell_type": "code",
      "metadata": {
        "id": "TAEQVmiuVVWu",
        "outputId": "ab0e35ef-ec32-4af7-ddd8-cf3d9e765609",
        "colab": {
          "base_uri": "https://localhost:8080/",
          "height": 401
        }
      },
      "source": [
        "plt.boxplot(li['rep_Count'])"
      ],
      "execution_count": null,
      "outputs": [
        {
          "output_type": "execute_result",
          "data": {
            "text/plain": [
              "{'boxes': [<matplotlib.lines.Line2D at 0x7f4d316645f8>],\n",
              " 'caps': [<matplotlib.lines.Line2D at 0x7f4d3167b048>,\n",
              "  <matplotlib.lines.Line2D at 0x7f4d3167b3c8>],\n",
              " 'fliers': [<matplotlib.lines.Line2D at 0x7f4d3167bac8>],\n",
              " 'means': [],\n",
              " 'medians': [<matplotlib.lines.Line2D at 0x7f4d3167b748>],\n",
              " 'whiskers': [<matplotlib.lines.Line2D at 0x7f4d31664908>,\n",
              "  <matplotlib.lines.Line2D at 0x7f4d31664c88>]}"
            ]
          },
          "metadata": {
            "tags": []
          },
          "execution_count": 34
        },
        {
          "output_type": "display_data",
          "data": {
            "image/png": "[encoded data removed]",
            "text/plain": [
              "<Figure size 432x288 with 1 Axes>"
            ]
          },
          "metadata": {
            "tags": [],
            "needs_background": "light"
          }
        }
      ]
    },
    {
      "cell_type": "code",
      "metadata": {
        "id": "M0GEzmUzZCqD",
        "outputId": "008adc9e-e194-46d8-d55c-5732a7d7dca7",
        "colab": {
          "base_uri": "https://localhost:8080/",
          "height": 69
        }
      },
      "source": [
        "df_GRA['payload.commits'][0].replace('[','').replace(']','').replace('{','').replace('}','').replace('\"','').replace('\\\\n',' ')"
      ],
      "execution_count": null,
      "outputs": [
        {
          "output_type": "execute_result",
          "data": {
            "application/vnd.google.colaboratory.intrinsic+json": {
              "type": "string"
            },
            "text/plain": [
              "'author:email:da8d7d1118ca5befd4d0d3e4f449c76ba6f1ee7e@live.com,name:davidjhulse,distinct:true,message:Altered BingBot.jar  Fixed issue with multiple account support,sha:a9b22a6d80c1e0bb49c1cf75a3c075b642c28f81,url:https://api.github.com/repos/davidjhulse/davesbingrewardsbot/commits/a9b22a6d80c1e0bb49c1cf75a3c075b642c28f81'"
            ]
          },
          "metadata": {
            "tags": []
          },
          "execution_count": 35
        }
      ]
    },
    {
      "cell_type": "code",
      "metadata": {
        "id": "wUp1Tupcsyzi",
        "outputId": "06957cf7-fa55-4f6c-edc3-41cd26c576f2",
        "colab": {
          "base_uri": "https://localhost:8080/",
          "height": 69
        }
      },
      "source": [
        "df_GRA['payload.commits'][0]"
      ],
      "execution_count": null,
      "outputs": [
        {
          "output_type": "execute_result",
          "data": {
            "application/vnd.google.colaboratory.intrinsic+json": {
              "type": "string"
            },
            "text/plain": [
              "'[{\"author\":{\"email\":\"da8d7d1118ca5befd4d0d3e4f449c76ba6f1ee7e@live.com\",\"name\":\"davidjhulse\"},\"distinct\":true,\"message\":\"Altered BingBot.jar\\\\n\\\\nFixed issue with multiple account support\",\"sha\":\"a9b22a6d80c1e0bb49c1cf75a3c075b642c28f81\",\"url\":\"https://api.github.com/repos/davidjhulse/davesbingrewardsbot/commits/a9b22a6d80c1e0bb49c1cf75a3c075b642c28f81\"}]'"
            ]
          },
          "metadata": {
            "tags": []
          },
          "execution_count": 36
        }
      ]
    },
    {
      "cell_type": "code",
      "metadata": {
        "id": "yWggam218orM"
      },
      "source": [
        "df_Push_copy = df_Push.copy()"
      ],
      "execution_count": null,
      "outputs": []
    },
    {
      "cell_type": "code",
      "metadata": {
        "id": "1TtPc4c7FdOz"
      },
      "source": [
        "df_Push_copy = df_Push_copy[[\"actor.id\",\"repo.id\"]]"
      ],
      "execution_count": null,
      "outputs": []
    },
    {
      "cell_type": "code",
      "metadata": {
        "id": "KjPayunlGcyf",
        "outputId": "92372b33-3b36-4dee-a538-63a94c40691f",
        "colab": {
          "base_uri": "https://localhost:8080/",
          "height": 204
        }
      },
      "source": [
        "df_Push_copy.head()"
      ],
      "execution_count": null,
      "outputs": [
        {
          "output_type": "execute_result",
          "data": {
            "text/html": [
              "<div>\n",
              "<style scoped>\n",
              "    .dataframe tbody tr th:only-of-type {\n",
              "        vertical-align: middle;\n",
              "    }\n",
              "\n",
              "    .dataframe tbody tr th {\n",
              "        vertical-align: top;\n",
              "    }\n",
              "\n",
              "    .dataframe thead th {\n",
              "        text-align: right;\n",
              "    }\n",
              "</style>\n",
              "<table border=\"1\" class=\"dataframe\">\n",
              "  <thead>\n",
              "    <tr style=\"text-align: right;\">\n",
              "      <th></th>\n",
              "      <th>actor.id</th>\n",
              "      <th>repo.id</th>\n",
              "    </tr>\n",
              "  </thead>\n",
              "  <tbody>\n",
              "    <tr>\n",
              "      <th>0</th>\n",
              "      <td>9152315</td>\n",
              "      <td>28635890</td>\n",
              "    </tr>\n",
              "    <tr>\n",
              "      <th>1</th>\n",
              "      <td>5581438</td>\n",
              "      <td>26392647</td>\n",
              "    </tr>\n",
              "    <tr>\n",
              "      <th>3</th>\n",
              "      <td>66577</td>\n",
              "      <td>5152285</td>\n",
              "    </tr>\n",
              "    <tr>\n",
              "      <th>4</th>\n",
              "      <td>9221683</td>\n",
              "      <td>28520835</td>\n",
              "    </tr>\n",
              "    <tr>\n",
              "      <th>5</th>\n",
              "      <td>1174658</td>\n",
              "      <td>25334511</td>\n",
              "    </tr>\n",
              "  </tbody>\n",
              "</table>\n",
              "</div>"
            ],
            "text/plain": [
              "   actor.id   repo.id\n",
              "0   9152315  28635890\n",
              "1   5581438  26392647\n",
              "3     66577   5152285\n",
              "4   9221683  28520835\n",
              "5   1174658  25334511"
            ]
          },
          "metadata": {
            "tags": []
          },
          "execution_count": 39
        }
      ]
    },
    {
      "cell_type": "code",
      "metadata": {
        "id": "Qk2kWe_mGeYb",
        "outputId": "0891cf72-0f09-4780-b83b-2fc5ec9415ac",
        "colab": {
          "base_uri": "https://localhost:8080/"
        }
      },
      "source": [
        "l = df_Push_copy.groupby(\"repo.id\")[\"actor.id\"].count()\n",
        "l.head()"
      ],
      "execution_count": null,
      "outputs": [
        {
          "output_type": "execute_result",
          "data": {
            "text/plain": [
              "repo.id\n",
              "13803     1\n",
              "20724     1\n",
              "100181    1\n",
              "115984    1\n",
              "117358    1\n",
              "Name: actor.id, dtype: int64"
            ]
          },
          "metadata": {
            "tags": []
          },
          "execution_count": 40
        }
      ]
    },
    {
      "cell_type": "code",
      "metadata": {
        "id": "9RxnIniWHgtw",
        "outputId": "20ee276e-e54f-4d01-8e5b-1bb3ab951c61",
        "colab": {
          "base_uri": "https://localhost:8080/"
        }
      },
      "source": [
        "print(len(df_Push_copy['repo.id']))\n",
        "print(len(df_Push_copy['repo.id'].unique()))"
      ],
      "execution_count": null,
      "outputs": [
        {
          "output_type": "stream",
          "text": [
            "4280\n",
            "2558\n"
          ],
          "name": "stdout"
        }
      ]
    },
    {
      "cell_type": "code",
      "metadata": {
        "id": "qfgZsDy-HlLx"
      },
      "source": [
        "df_push_unique = pd.DataFrame({'rep.id': sorted(df_Push_copy['repo.id'].unique()),'contrib_coun': [i for i in l]})"
      ],
      "execution_count": null,
      "outputs": []
    },
    {
      "cell_type": "code",
      "metadata": {
        "id": "XJB2nRpyI5SX",
        "outputId": "ee378914-f2f5-4e38-edc0-1b41300579ec",
        "colab": {
          "base_uri": "https://localhost:8080/",
          "height": 204
        }
      },
      "source": [
        "df_push_unique.head()"
      ],
      "execution_count": null,
      "outputs": [
        {
          "output_type": "execute_result",
          "data": {
            "text/html": [
              "<div>\n",
              "<style scoped>\n",
              "    .dataframe tbody tr th:only-of-type {\n",
              "        vertical-align: middle;\n",
              "    }\n",
              "\n",
              "    .dataframe tbody tr th {\n",
              "        vertical-align: top;\n",
              "    }\n",
              "\n",
              "    .dataframe thead th {\n",
              "        text-align: right;\n",
              "    }\n",
              "</style>\n",
              "<table border=\"1\" class=\"dataframe\">\n",
              "  <thead>\n",
              "    <tr style=\"text-align: right;\">\n",
              "      <th></th>\n",
              "      <th>rep.id</th>\n",
              "      <th>contrib_coun</th>\n",
              "    </tr>\n",
              "  </thead>\n",
              "  <tbody>\n",
              "    <tr>\n",
              "      <th>0</th>\n",
              "      <td>13803</td>\n",
              "      <td>1</td>\n",
              "    </tr>\n",
              "    <tr>\n",
              "      <th>1</th>\n",
              "      <td>20724</td>\n",
              "      <td>1</td>\n",
              "    </tr>\n",
              "    <tr>\n",
              "      <th>2</th>\n",
              "      <td>100181</td>\n",
              "      <td>1</td>\n",
              "    </tr>\n",
              "    <tr>\n",
              "      <th>3</th>\n",
              "      <td>115984</td>\n",
              "      <td>1</td>\n",
              "    </tr>\n",
              "    <tr>\n",
              "      <th>4</th>\n",
              "      <td>117358</td>\n",
              "      <td>1</td>\n",
              "    </tr>\n",
              "  </tbody>\n",
              "</table>\n",
              "</div>"
            ],
            "text/plain": [
              "   rep.id  contrib_coun\n",
              "0   13803             1\n",
              "1   20724             1\n",
              "2  100181             1\n",
              "3  115984             1\n",
              "4  117358             1"
            ]
          },
          "metadata": {
            "tags": []
          },
          "execution_count": 43
        }
      ]
    },
    {
      "cell_type": "code",
      "metadata": {
        "id": "x8Z-Pnh3JoWG"
      },
      "source": [
        "df_push_unique.to_csv('Q1.csv')"
      ],
      "execution_count": null,
      "outputs": []
    },
    {
      "cell_type": "code",
      "metadata": {
        "id": "glreRcktJ5Oe"
      },
      "source": [
        "rep_PushGroup_Count = df_push_unique['contrib_coun'].value_counts()"
      ],
      "execution_count": null,
      "outputs": []
    },
    {
      "cell_type": "code",
      "metadata": {
        "id": "0ruSsSyS7PzW",
        "outputId": "bd04f051-85aa-4ac9-89a6-0aeef7289e50",
        "colab": {
          "base_uri": "https://localhost:8080/"
        }
      },
      "source": [
        "for i in rep_PushGroup_Count:\n",
        "  print(i)"
      ],
      "execution_count": null,
      "outputs": [
        {
          "output_type": "stream",
          "text": [
            "1776\n",
            "460\n",
            "155\n",
            "70\n",
            "34\n",
            "19\n",
            "12\n",
            "8\n",
            "6\n",
            "6\n",
            "3\n",
            "2\n",
            "2\n",
            "1\n",
            "1\n",
            "1\n",
            "1\n",
            "1\n"
          ],
          "name": "stdout"
        }
      ]
    },
    {
      "cell_type": "code",
      "metadata": {
        "id": "gnjE_sLV7dUB",
        "outputId": "9e490fa2-b988-4cb6-a6d5-751cb8fe810d",
        "colab": {
          "base_uri": "https://localhost:8080/"
        }
      },
      "source": [
        "rep_PushGroup_Count"
      ],
      "execution_count": null,
      "outputs": [
        {
          "output_type": "execute_result",
          "data": {
            "text/plain": [
              "1     1776\n",
              "2      460\n",
              "3      155\n",
              "4       70\n",
              "5       34\n",
              "6       19\n",
              "8       12\n",
              "7        8\n",
              "12       6\n",
              "9        6\n",
              "18       3\n",
              "13       2\n",
              "14       2\n",
              "79       1\n",
              "20       1\n",
              "29       1\n",
              "11       1\n",
              "30       1\n",
              "Name: contrib_coun, dtype: int64"
            ]
          },
          "metadata": {
            "tags": []
          },
          "execution_count": 47
        }
      ]
    },
    {
      "cell_type": "code",
      "metadata": {
        "id": "udoIjUEx7m_K"
      },
      "source": [
        "unique_repGroup = df_push_unique['contrib_coun'].unique()"
      ],
      "execution_count": null,
      "outputs": []
    },
    {
      "cell_type": "code",
      "metadata": {
        "id": "1EznWsm78AI4",
        "outputId": "60b0716f-98bc-4cfe-995f-e84da8f707e2",
        "colab": {
          "base_uri": "https://localhost:8080/"
        }
      },
      "source": [
        "sorted(unique_repGroup)"
      ],
      "execution_count": null,
      "outputs": [
        {
          "output_type": "execute_result",
          "data": {
            "text/plain": [
              "[1, 2, 3, 4, 5, 6, 7, 8, 9, 11, 12, 13, 14, 18, 20, 29, 30, 79]"
            ]
          },
          "metadata": {
            "tags": []
          },
          "execution_count": 49
        }
      ]
    },
    {
      "cell_type": "code",
      "metadata": {
        "id": "kVwrOgLc8BX3",
        "outputId": "fc69ea6b-6862-436f-dd41-85d0a2048e6a",
        "colab": {
          "base_uri": "https://localhost:8080/",
          "height": 623
        }
      },
      "source": [
        "plt.figure(figsize=(14,10))\n",
        "plt.scatter(x = sorted(unique_repGroup),y = rep_PushGroup_Count,marker=\"x\")\n",
        "plt.xlabel('Number of contributors for repositories')\n",
        "plt.ylabel('Number of Repositories')"
      ],
      "execution_count": null,
      "outputs": [
        {
          "output_type": "execute_result",
          "data": {
            "text/plain": [
              "Text(0, 0.5, 'Number of Repositories')"
            ]
          },
          "metadata": {
            "tags": []
          },
          "execution_count": 50
        },
        {
          "output_type": "display_data",
          "data": {
            "image/png": "[encoded data removed]",
            "text/plain": [
              "<Figure size 1008x720 with 1 Axes>"
            ]
          },
          "metadata": {
            "tags": [],
            "needs_background": "light"
          }
        }
      ]
    },
    {
      "cell_type": "code",
      "metadata": {
        "id": "yKlDHRmt9uBD"
      },
      "source": [
        ""
      ],
      "execution_count": null,
      "outputs": []
    }
  ]
}