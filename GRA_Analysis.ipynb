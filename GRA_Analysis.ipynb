{
  "nbformat": 4,
  "nbformat_minor": 0,
  "metadata": {
    "colab": {
      "name": "GRA_Analysis.ipynb",
      "provenance": [],
      "authorship_tag": "ABX9TyMtYvzsTtiNSVvCZP6ee/LS",
      "include_colab_link": true
    },
    "kernelspec": {
      "name": "python3",
      "display_name": "Python 3"
    }
  },
  "cells": [
    {
      "cell_type": "markdown",
      "metadata": {
        "id": "view-in-github",
        "colab_type": "text"
      },
      "source": [
        "<a href=\"https://colab.research.google.com/github/prithvikolla/GitHub_Repository_Analysis/blob/main/GRA_Analysis.ipynb\" target=\"_parent\"><img src=\"https://colab.research.google.com/assets/colab-badge.svg\" alt=\"Open In Colab\"/></a>"
      ]
    },
    {
      "cell_type": "code",
      "metadata": {
        "id": "giYmFLPNdQVC"
      },
      "source": [
        "import pandas as pd\n",
        "\n",
        "import io\n",
        "\n",
        "import requests\n",
        "\n",
        "urlfile=\"https://raw.githubusercontent.com/prithvikolla/GitHub_Repository_Analysis/main/2015-01-01-0.csv\"\n",
        "\n",
        "url=requests.get(urlfile).content\n",
        "\n",
        "df_GRA =pd.read_csv(io.StringIO(url.decode('utf-8')))\n"
      ],
      "execution_count": 16,
      "outputs": []
    },
    {
      "cell_type": "code",
      "metadata": {
        "id": "_hmj3mJMgbfq",
        "outputId": "fa902993-7ddf-436d-d146-3ca5660b0a99",
        "colab": {
          "base_uri": "https://localhost:8080/",
          "height": 338
        }
      },
      "source": [
        "df_GRA.head()"
      ],
      "execution_count": 17,
      "outputs": [
        {
          "output_type": "execute_result",
          "data": {
            "text/html": [
              "<div>\n",
              "<style scoped>\n",
              "    .dataframe tbody tr th:only-of-type {\n",
              "        vertical-align: middle;\n",
              "    }\n",
              "\n",
              "    .dataframe tbody tr th {\n",
              "        vertical-align: top;\n",
              "    }\n",
              "\n",
              "    .dataframe thead th {\n",
              "        text-align: right;\n",
              "    }\n",
              "</style>\n",
              "<table border=\"1\" class=\"dataframe\">\n",
              "  <thead>\n",
              "    <tr style=\"text-align: right;\">\n",
              "      <th></th>\n",
              "      <th>id</th>\n",
              "      <th>type</th>\n",
              "      <th>actor.id</th>\n",
              "      <th>actor.login</th>\n",
              "      <th>actor.gravatar_id</th>\n",
              "      <th>actor.url</th>\n",
              "      <th>actor.avatar_url</th>\n",
              "      <th>repo.id</th>\n",
              "      <th>repo.name</th>\n",
              "      <th>repo.url</th>\n",
              "      <th>payload.push_id</th>\n",
              "      <th>payload.size</th>\n",
              "      <th>payload.distinct_size</th>\n",
              "      <th>payload.ref</th>\n",
              "      <th>payload.head</th>\n",
              "      <th>payload.before</th>\n",
              "      <th>payload.commits</th>\n",
              "      <th>payload.ref_type</th>\n",
              "      <th>payload.master_branch</th>\n",
              "      <th>payload.description</th>\n",
              "      <th>payload.pusher_type</th>\n",
              "      <th>payload.action</th>\n",
              "      <th>payload.issue.url</th>\n",
              "      <th>payload.issue.labels_url</th>\n",
              "      <th>payload.issue.comments_url</th>\n",
              "      <th>payload.issue.events_url</th>\n",
              "      <th>payload.issue.html_url</th>\n",
              "      <th>payload.issue.id</th>\n",
              "      <th>payload.issue.number</th>\n",
              "      <th>payload.issue.title</th>\n",
              "      <th>payload.issue.user.login</th>\n",
              "      <th>payload.issue.user.id</th>\n",
              "      <th>payload.issue.user.avatar_url</th>\n",
              "      <th>payload.issue.user.gravatar_id</th>\n",
              "      <th>payload.issue.user.url</th>\n",
              "      <th>payload.issue.user.html_url</th>\n",
              "      <th>payload.issue.user.followers_url</th>\n",
              "      <th>payload.issue.user.following_url</th>\n",
              "      <th>payload.issue.user.gists_url</th>\n",
              "      <th>payload.issue.user.starred_url</th>\n",
              "      <th>...</th>\n",
              "      <th>payload.pull_request.head.user.url</th>\n",
              "      <th>payload.pull_request.head.user.html_url</th>\n",
              "      <th>payload.pull_request.head.user.followers_url</th>\n",
              "      <th>payload.pull_request.head.user.following_url</th>\n",
              "      <th>payload.pull_request.head.user.gists_url</th>\n",
              "      <th>payload.pull_request.head.user.starred_url</th>\n",
              "      <th>payload.pull_request.head.user.subscriptions_url</th>\n",
              "      <th>payload.pull_request.head.user.organizations_url</th>\n",
              "      <th>payload.pull_request.head.user.repos_url</th>\n",
              "      <th>payload.pull_request.head.user.events_url</th>\n",
              "      <th>payload.pull_request.head.user.received_events_url</th>\n",
              "      <th>payload.pull_request.head.user.type</th>\n",
              "      <th>payload.pull_request.head.user.site_admin</th>\n",
              "      <th>payload.pull_request.head.repo.id</th>\n",
              "      <th>payload.pull_request.head.repo.name</th>\n",
              "      <th>payload.pull_request.head.repo.full_name</th>\n",
              "      <th>payload.pull_request.head.repo.owner.login</th>\n",
              "      <th>payload.pull_request.head.repo.owner.id</th>\n",
              "      <th>payload.pull_request.head.repo.owner.avatar_url</th>\n",
              "      <th>payload.pull_request.head.repo.owner.gravatar_id</th>\n",
              "      <th>payload.pull_request.head.repo.owner.url</th>\n",
              "      <th>payload.pull_request.head.repo.owner.html_url</th>\n",
              "      <th>payload.pull_request.head.repo.owner.followers_url</th>\n",
              "      <th>payload.pull_request.head.repo.owner.following_url</th>\n",
              "      <th>payload.pull_request.head.repo.owner.gists_url</th>\n",
              "      <th>payload.pull_request.head.repo.owner.starred_url</th>\n",
              "      <th>payload.pull_request.head.repo.owner.subscriptions_url</th>\n",
              "      <th>payload.pull_request.head.repo.owner.organizations_url</th>\n",
              "      <th>payload.pull_request.head.repo.owner.repos_url</th>\n",
              "      <th>payload.pull_request.head.repo.owner.events_url</th>\n",
              "      <th>payload.pull_request.head.repo.owner.received_events_url</th>\n",
              "      <th>payload.pull_request.head.repo.owner.type</th>\n",
              "      <th>payload.pull_request.head.repo.owner.site_admin</th>\n",
              "      <th>public</th>\n",
              "      <th>created_at</th>\n",
              "      <th>org.id</th>\n",
              "      <th>org.login</th>\n",
              "      <th>org.gravatar_id</th>\n",
              "      <th>org.url</th>\n",
              "      <th>org.avatar_url</th>\n",
              "    </tr>\n",
              "  </thead>\n",
              "  <tbody>\n",
              "    <tr>\n",
              "      <th>0</th>\n",
              "      <td>2489368070</td>\n",
              "      <td>PushEvent</td>\n",
              "      <td>9152315</td>\n",
              "      <td>davidjhulse</td>\n",
              "      <td>NaN</td>\n",
              "      <td>https://api.github.com/users/davidjhulse</td>\n",
              "      <td>https://avatars.githubusercontent.com/u/9152315?</td>\n",
              "      <td>28635890</td>\n",
              "      <td>davidjhulse/davesbingrewardsbot</td>\n",
              "      <td>https://api.github.com/repos/davidjhulse/daves...</td>\n",
              "      <td>536740396</td>\n",
              "      <td>1</td>\n",
              "      <td>1</td>\n",
              "      <td>refs/heads/master</td>\n",
              "      <td>a9b22a6d80c1e0bb49c1cf75a3c075b642c28f81</td>\n",
              "      <td>86ffa724b4d70fce46e760f8cc080f5ec3d7d85f</td>\n",
              "      <td>[{\"author\":{\"email\":\"da8d7d1118ca5befd4d0d3e4f...</td>\n",
              "      <td>\"\"</td>\n",
              "      <td>\"\"</td>\n",
              "      <td>\"\"</td>\n",
              "      <td>\"\"</td>\n",
              "      <td>\"\"</td>\n",
              "      <td>\"\"</td>\n",
              "      <td>\"\"</td>\n",
              "      <td>\"\"</td>\n",
              "      <td>\"\"</td>\n",
              "      <td>\"\"</td>\n",
              "      <td>\"\"</td>\n",
              "      <td>\"\"</td>\n",
              "      <td>\"\"</td>\n",
              "      <td>\"\"</td>\n",
              "      <td>\"\"</td>\n",
              "      <td>\"\"</td>\n",
              "      <td>\"\"</td>\n",
              "      <td>\"\"</td>\n",
              "      <td>\"\"</td>\n",
              "      <td>\"\"</td>\n",
              "      <td>\"\"</td>\n",
              "      <td>\"\"</td>\n",
              "      <td>\"\"</td>\n",
              "      <td>...</td>\n",
              "      <td>\"\"</td>\n",
              "      <td>\"\"</td>\n",
              "      <td>\"\"</td>\n",
              "      <td>\"\"</td>\n",
              "      <td>\"\"</td>\n",
              "      <td>\"\"</td>\n",
              "      <td>\"\"</td>\n",
              "      <td>\"\"</td>\n",
              "      <td>\"\"</td>\n",
              "      <td>\"\"</td>\n",
              "      <td>\"\"</td>\n",
              "      <td>\"\"</td>\n",
              "      <td>\"\"</td>\n",
              "      <td>\"\"</td>\n",
              "      <td>\"\"</td>\n",
              "      <td>\"\"</td>\n",
              "      <td>\"\"</td>\n",
              "      <td>\"\"</td>\n",
              "      <td>\"\"</td>\n",
              "      <td>\"\"</td>\n",
              "      <td>\"\"</td>\n",
              "      <td>\"\"</td>\n",
              "      <td>\"\"</td>\n",
              "      <td>\"\"</td>\n",
              "      <td>\"\"</td>\n",
              "      <td>\"\"</td>\n",
              "      <td>\"\"</td>\n",
              "      <td>\"\"</td>\n",
              "      <td>\"\"</td>\n",
              "      <td>\"\"</td>\n",
              "      <td>\"\"</td>\n",
              "      <td>\"\"</td>\n",
              "      <td>\"\"</td>\n",
              "      <td>True</td>\n",
              "      <td>2015-01-01T00:00:00Z</td>\n",
              "      <td>\"\"</td>\n",
              "      <td>\"\"</td>\n",
              "      <td>\"\"</td>\n",
              "      <td>\"\"</td>\n",
              "      <td>\"\"</td>\n",
              "    </tr>\n",
              "    <tr>\n",
              "      <th>1</th>\n",
              "      <td>2489368072</td>\n",
              "      <td>PushEvent</td>\n",
              "      <td>5581438</td>\n",
              "      <td>jmoon018</td>\n",
              "      <td>NaN</td>\n",
              "      <td>https://api.github.com/users/jmoon018</td>\n",
              "      <td>https://avatars.githubusercontent.com/u/5581438?</td>\n",
              "      <td>26392647</td>\n",
              "      <td>jmoon018/rshell-unit-tester</td>\n",
              "      <td>https://api.github.com/repos/jmoon018/rshell-u...</td>\n",
              "      <td>536740397</td>\n",
              "      <td>1</td>\n",
              "      <td>1</td>\n",
              "      <td>refs/heads/master</td>\n",
              "      <td>56688cc528224d40679b7e83c105b27367443a8c</td>\n",
              "      <td>d5a69a84e4d95c1c2cbc0a828172f9ce94db35c6</td>\n",
              "      <td>[{\"author\":{\"email\":\"61dcbbf08c9f7aaa2b1d0a9ce...</td>\n",
              "      <td>\"\"</td>\n",
              "      <td>\"\"</td>\n",
              "      <td>\"\"</td>\n",
              "      <td>\"\"</td>\n",
              "      <td>\"\"</td>\n",
              "      <td>\"\"</td>\n",
              "      <td>\"\"</td>\n",
              "      <td>\"\"</td>\n",
              "      <td>\"\"</td>\n",
              "      <td>\"\"</td>\n",
              "      <td>\"\"</td>\n",
              "      <td>\"\"</td>\n",
              "      <td>\"\"</td>\n",
              "      <td>\"\"</td>\n",
              "      <td>\"\"</td>\n",
              "      <td>\"\"</td>\n",
              "      <td>\"\"</td>\n",
              "      <td>\"\"</td>\n",
              "      <td>\"\"</td>\n",
              "      <td>\"\"</td>\n",
              "      <td>\"\"</td>\n",
              "      <td>\"\"</td>\n",
              "      <td>\"\"</td>\n",
              "      <td>...</td>\n",
              "      <td>\"\"</td>\n",
              "      <td>\"\"</td>\n",
              "      <td>\"\"</td>\n",
              "      <td>\"\"</td>\n",
              "      <td>\"\"</td>\n",
              "      <td>\"\"</td>\n",
              "      <td>\"\"</td>\n",
              "      <td>\"\"</td>\n",
              "      <td>\"\"</td>\n",
              "      <td>\"\"</td>\n",
              "      <td>\"\"</td>\n",
              "      <td>\"\"</td>\n",
              "      <td>\"\"</td>\n",
              "      <td>\"\"</td>\n",
              "      <td>\"\"</td>\n",
              "      <td>\"\"</td>\n",
              "      <td>\"\"</td>\n",
              "      <td>\"\"</td>\n",
              "      <td>\"\"</td>\n",
              "      <td>\"\"</td>\n",
              "      <td>\"\"</td>\n",
              "      <td>\"\"</td>\n",
              "      <td>\"\"</td>\n",
              "      <td>\"\"</td>\n",
              "      <td>\"\"</td>\n",
              "      <td>\"\"</td>\n",
              "      <td>\"\"</td>\n",
              "      <td>\"\"</td>\n",
              "      <td>\"\"</td>\n",
              "      <td>\"\"</td>\n",
              "      <td>\"\"</td>\n",
              "      <td>\"\"</td>\n",
              "      <td>\"\"</td>\n",
              "      <td>True</td>\n",
              "      <td>2015-01-01T00:00:00Z</td>\n",
              "      <td>\"\"</td>\n",
              "      <td>\"\"</td>\n",
              "      <td>\"\"</td>\n",
              "      <td>\"\"</td>\n",
              "      <td>\"\"</td>\n",
              "    </tr>\n",
              "    <tr>\n",
              "      <th>2</th>\n",
              "      <td>2489368089</td>\n",
              "      <td>CreateEvent</td>\n",
              "      <td>6352424</td>\n",
              "      <td>christoferpeterson</td>\n",
              "      <td>NaN</td>\n",
              "      <td>https://api.github.com/users/christoferpeterson</td>\n",
              "      <td>https://avatars.githubusercontent.com/u/6352424?</td>\n",
              "      <td>28677542</td>\n",
              "      <td>christoferpeterson/Vadek</td>\n",
              "      <td>https://api.github.com/repos/christoferpeterso...</td>\n",
              "      <td>\"\"</td>\n",
              "      <td>\"\"</td>\n",
              "      <td>\"\"</td>\n",
              "      <td>master</td>\n",
              "      <td>\"\"</td>\n",
              "      <td>\"\"</td>\n",
              "      <td>\"\"</td>\n",
              "      <td>branch</td>\n",
              "      <td>master</td>\n",
              "      <td>Making an HTML5 game from scratch.</td>\n",
              "      <td>user</td>\n",
              "      <td>\"\"</td>\n",
              "      <td>\"\"</td>\n",
              "      <td>\"\"</td>\n",
              "      <td>\"\"</td>\n",
              "      <td>\"\"</td>\n",
              "      <td>\"\"</td>\n",
              "      <td>\"\"</td>\n",
              "      <td>\"\"</td>\n",
              "      <td>\"\"</td>\n",
              "      <td>\"\"</td>\n",
              "      <td>\"\"</td>\n",
              "      <td>\"\"</td>\n",
              "      <td>\"\"</td>\n",
              "      <td>\"\"</td>\n",
              "      <td>\"\"</td>\n",
              "      <td>\"\"</td>\n",
              "      <td>\"\"</td>\n",
              "      <td>\"\"</td>\n",
              "      <td>\"\"</td>\n",
              "      <td>...</td>\n",
              "      <td>\"\"</td>\n",
              "      <td>\"\"</td>\n",
              "      <td>\"\"</td>\n",
              "      <td>\"\"</td>\n",
              "      <td>\"\"</td>\n",
              "      <td>\"\"</td>\n",
              "      <td>\"\"</td>\n",
              "      <td>\"\"</td>\n",
              "      <td>\"\"</td>\n",
              "      <td>\"\"</td>\n",
              "      <td>\"\"</td>\n",
              "      <td>\"\"</td>\n",
              "      <td>\"\"</td>\n",
              "      <td>\"\"</td>\n",
              "      <td>\"\"</td>\n",
              "      <td>\"\"</td>\n",
              "      <td>\"\"</td>\n",
              "      <td>\"\"</td>\n",
              "      <td>\"\"</td>\n",
              "      <td>\"\"</td>\n",
              "      <td>\"\"</td>\n",
              "      <td>\"\"</td>\n",
              "      <td>\"\"</td>\n",
              "      <td>\"\"</td>\n",
              "      <td>\"\"</td>\n",
              "      <td>\"\"</td>\n",
              "      <td>\"\"</td>\n",
              "      <td>\"\"</td>\n",
              "      <td>\"\"</td>\n",
              "      <td>\"\"</td>\n",
              "      <td>\"\"</td>\n",
              "      <td>\"\"</td>\n",
              "      <td>\"\"</td>\n",
              "      <td>True</td>\n",
              "      <td>2015-01-01T00:00:01Z</td>\n",
              "      <td>\"\"</td>\n",
              "      <td>\"\"</td>\n",
              "      <td>\"\"</td>\n",
              "      <td>\"\"</td>\n",
              "      <td>\"\"</td>\n",
              "    </tr>\n",
              "    <tr>\n",
              "      <th>3</th>\n",
              "      <td>2489368095</td>\n",
              "      <td>PushEvent</td>\n",
              "      <td>66577</td>\n",
              "      <td>JakeWharton</td>\n",
              "      <td>NaN</td>\n",
              "      <td>https://api.github.com/users/JakeWharton</td>\n",
              "      <td>https://avatars.githubusercontent.com/u/66577?</td>\n",
              "      <td>5152285</td>\n",
              "      <td>square/okhttp</td>\n",
              "      <td>https://api.github.com/repos/square/okhttp</td>\n",
              "      <td>536740405</td>\n",
              "      <td>8</td>\n",
              "      <td>1</td>\n",
              "      <td>refs/heads/jw/websocket-call</td>\n",
              "      <td>bc9aa8a0c999232d2675cf5ba60e9c9d03f2a806</td>\n",
              "      <td>8590ddf9fe54fe27d24f25dd66729993e63a5d61</td>\n",
              "      <td>[{\"author\":{\"email\":\"9ec2b9d5f2203d75c2b0f7885...</td>\n",
              "      <td>\"\"</td>\n",
              "      <td>\"\"</td>\n",
              "      <td>\"\"</td>\n",
              "      <td>\"\"</td>\n",
              "      <td>\"\"</td>\n",
              "      <td>\"\"</td>\n",
              "      <td>\"\"</td>\n",
              "      <td>\"\"</td>\n",
              "      <td>\"\"</td>\n",
              "      <td>\"\"</td>\n",
              "      <td>\"\"</td>\n",
              "      <td>\"\"</td>\n",
              "      <td>\"\"</td>\n",
              "      <td>\"\"</td>\n",
              "      <td>\"\"</td>\n",
              "      <td>\"\"</td>\n",
              "      <td>\"\"</td>\n",
              "      <td>\"\"</td>\n",
              "      <td>\"\"</td>\n",
              "      <td>\"\"</td>\n",
              "      <td>\"\"</td>\n",
              "      <td>\"\"</td>\n",
              "      <td>\"\"</td>\n",
              "      <td>...</td>\n",
              "      <td>\"\"</td>\n",
              "      <td>\"\"</td>\n",
              "      <td>\"\"</td>\n",
              "      <td>\"\"</td>\n",
              "      <td>\"\"</td>\n",
              "      <td>\"\"</td>\n",
              "      <td>\"\"</td>\n",
              "      <td>\"\"</td>\n",
              "      <td>\"\"</td>\n",
              "      <td>\"\"</td>\n",
              "      <td>\"\"</td>\n",
              "      <td>\"\"</td>\n",
              "      <td>\"\"</td>\n",
              "      <td>\"\"</td>\n",
              "      <td>\"\"</td>\n",
              "      <td>\"\"</td>\n",
              "      <td>\"\"</td>\n",
              "      <td>\"\"</td>\n",
              "      <td>\"\"</td>\n",
              "      <td>\"\"</td>\n",
              "      <td>\"\"</td>\n",
              "      <td>\"\"</td>\n",
              "      <td>\"\"</td>\n",
              "      <td>\"\"</td>\n",
              "      <td>\"\"</td>\n",
              "      <td>\"\"</td>\n",
              "      <td>\"\"</td>\n",
              "      <td>\"\"</td>\n",
              "      <td>\"\"</td>\n",
              "      <td>\"\"</td>\n",
              "      <td>\"\"</td>\n",
              "      <td>\"\"</td>\n",
              "      <td>\"\"</td>\n",
              "      <td>True</td>\n",
              "      <td>2015-01-01T00:00:01Z</td>\n",
              "      <td>82592</td>\n",
              "      <td>square</td>\n",
              "      <td>NaN</td>\n",
              "      <td>https://api.github.com/orgs/square</td>\n",
              "      <td>https://avatars.githubusercontent.com/u/82592?</td>\n",
              "    </tr>\n",
              "    <tr>\n",
              "      <th>4</th>\n",
              "      <td>2489368104</td>\n",
              "      <td>PushEvent</td>\n",
              "      <td>9221683</td>\n",
              "      <td>git4ruby</td>\n",
              "      <td>NaN</td>\n",
              "      <td>https://api.github.com/users/git4ruby</td>\n",
              "      <td>https://avatars.githubusercontent.com/u/9221683?</td>\n",
              "      <td>28520835</td>\n",
              "      <td>git4ruby/movie_review1</td>\n",
              "      <td>https://api.github.com/repos/git4ruby/movie_re...</td>\n",
              "      <td>536740413</td>\n",
              "      <td>1</td>\n",
              "      <td>1</td>\n",
              "      <td>refs/heads/master</td>\n",
              "      <td>97a402b54bfd562b8cefd11f1361cd5af41b0535</td>\n",
              "      <td>bc6e2f2a7d2095f8881d44d737506c14c1e07561</td>\n",
              "      <td>[{\"author\":{\"email\":\"0b727f1f5f209fb32b7d5f0f0...</td>\n",
              "      <td>\"\"</td>\n",
              "      <td>\"\"</td>\n",
              "      <td>\"\"</td>\n",
              "      <td>\"\"</td>\n",
              "      <td>\"\"</td>\n",
              "      <td>\"\"</td>\n",
              "      <td>\"\"</td>\n",
              "      <td>\"\"</td>\n",
              "      <td>\"\"</td>\n",
              "      <td>\"\"</td>\n",
              "      <td>\"\"</td>\n",
              "      <td>\"\"</td>\n",
              "      <td>\"\"</td>\n",
              "      <td>\"\"</td>\n",
              "      <td>\"\"</td>\n",
              "      <td>\"\"</td>\n",
              "      <td>\"\"</td>\n",
              "      <td>\"\"</td>\n",
              "      <td>\"\"</td>\n",
              "      <td>\"\"</td>\n",
              "      <td>\"\"</td>\n",
              "      <td>\"\"</td>\n",
              "      <td>\"\"</td>\n",
              "      <td>...</td>\n",
              "      <td>\"\"</td>\n",
              "      <td>\"\"</td>\n",
              "      <td>\"\"</td>\n",
              "      <td>\"\"</td>\n",
              "      <td>\"\"</td>\n",
              "      <td>\"\"</td>\n",
              "      <td>\"\"</td>\n",
              "      <td>\"\"</td>\n",
              "      <td>\"\"</td>\n",
              "      <td>\"\"</td>\n",
              "      <td>\"\"</td>\n",
              "      <td>\"\"</td>\n",
              "      <td>\"\"</td>\n",
              "      <td>\"\"</td>\n",
              "      <td>\"\"</td>\n",
              "      <td>\"\"</td>\n",
              "      <td>\"\"</td>\n",
              "      <td>\"\"</td>\n",
              "      <td>\"\"</td>\n",
              "      <td>\"\"</td>\n",
              "      <td>\"\"</td>\n",
              "      <td>\"\"</td>\n",
              "      <td>\"\"</td>\n",
              "      <td>\"\"</td>\n",
              "      <td>\"\"</td>\n",
              "      <td>\"\"</td>\n",
              "      <td>\"\"</td>\n",
              "      <td>\"\"</td>\n",
              "      <td>\"\"</td>\n",
              "      <td>\"\"</td>\n",
              "      <td>\"\"</td>\n",
              "      <td>\"\"</td>\n",
              "      <td>\"\"</td>\n",
              "      <td>True</td>\n",
              "      <td>2015-01-01T00:00:03Z</td>\n",
              "      <td>\"\"</td>\n",
              "      <td>\"\"</td>\n",
              "      <td>\"\"</td>\n",
              "      <td>\"\"</td>\n",
              "      <td>\"\"</td>\n",
              "    </tr>\n",
              "  </tbody>\n",
              "</table>\n",
              "<p>5 rows × 182 columns</p>\n",
              "</div>"
            ],
            "text/plain": [
              "           id  ...                                  org.avatar_url\n",
              "0  2489368070  ...                                              \"\"\n",
              "1  2489368072  ...                                              \"\"\n",
              "2  2489368089  ...                                              \"\"\n",
              "3  2489368095  ...  https://avatars.githubusercontent.com/u/82592?\n",
              "4  2489368104  ...                                              \"\"\n",
              "\n",
              "[5 rows x 182 columns]"
            ]
          },
          "metadata": {
            "tags": []
          },
          "execution_count": 17
        }
      ]
    },
    {
      "cell_type": "code",
      "metadata": {
        "id": "ZTs7O15ugl4f",
        "outputId": "b600b328-3d88-49a3-c34b-4068e0516de1",
        "colab": {
          "base_uri": "https://localhost:8080/"
        }
      },
      "source": [
        "df_GRA.info()"
      ],
      "execution_count": 18,
      "outputs": [
        {
          "output_type": "stream",
          "text": [
            "<class 'pandas.core.frame.DataFrame'>\n",
            "RangeIndex: 7702 entries, 0 to 7701\n",
            "Columns: 182 entries, id to org.avatar_url\n",
            "dtypes: bool(1), float64(1), int64(3), object(177)\n",
            "memory usage: 10.6+ MB\n"
          ],
          "name": "stdout"
        }
      ]
    },
    {
      "cell_type": "code",
      "metadata": {
        "id": "6rpmwiQ3hIa7"
      },
      "source": [
        "unique_actors = list (df_GRA['actor.login'].unique())"
      ],
      "execution_count": 19,
      "outputs": []
    },
    {
      "cell_type": "code",
      "metadata": {
        "id": "s3FqeLy7hZQB",
        "outputId": "10d62c18-5c5c-4ff0-f668-ca0fd5ae4e57",
        "colab": {
          "base_uri": "https://localhost:8080/"
        }
      },
      "source": [
        "len(unique_actors)"
      ],
      "execution_count": 20,
      "outputs": [
        {
          "output_type": "execute_result",
          "data": {
            "text/plain": [
              "3648"
            ]
          },
          "metadata": {
            "tags": []
          },
          "execution_count": 20
        }
      ]
    },
    {
      "cell_type": "code",
      "metadata": {
        "id": "EEMDc3rVhwZq",
        "outputId": "0c6bc4a7-47c3-4c34-e395-6441f9976d8e",
        "colab": {
          "base_uri": "https://localhost:8080/"
        }
      },
      "source": [
        "len(df_GRA['actor.id'].unique())"
      ],
      "execution_count": 21,
      "outputs": [
        {
          "output_type": "execute_result",
          "data": {
            "text/plain": [
              "3648"
            ]
          },
          "metadata": {
            "tags": []
          },
          "execution_count": 21
        }
      ]
    },
    {
      "cell_type": "markdown",
      "metadata": {
        "id": "VtC_ctTBMMtc"
      },
      "source": [
        "1. How many unique contributors for each group?\n",
        "\n",
        "- Contributors can be inferred as , users who have done push event and finding the distinct users by \"actor.id\" attribute and \"type\" attribute."
      ]
    },
    {
      "cell_type": "code",
      "metadata": {
        "id": "hPnawFU4h8m6"
      },
      "source": [
        "id = [ ]\n",
        "for i in range(len(df_GRA['type'])): \n",
        "  if (df_GRA['type'][i] == 'PushEvent'):\n",
        "    id.append(df_GRA['actor.id'][i])"
      ],
      "execution_count": 22,
      "outputs": []
    },
    {
      "cell_type": "code",
      "metadata": {
        "id": "RjIsAG-ucxoa"
      },
      "source": [
        "def uniq(input):\n",
        "  output = [ ]\n",
        "  for x in input:\n",
        "    if x not in output:\n",
        "      output.append(x)\n",
        "  return output\n",
        "id_unique = uniq(input = id)"
      ],
      "execution_count": 23,
      "outputs": []
    },
    {
      "cell_type": "code",
      "metadata": {
        "id": "AupI4cQ3dfw_",
        "outputId": "409fcb82-9860-496f-edf8-e9815a483595",
        "colab": {
          "base_uri": "https://localhost:8080/"
        }
      },
      "source": [
        "len(id_unique)"
      ],
      "execution_count": 24,
      "outputs": [
        {
          "output_type": "execute_result",
          "data": {
            "text/plain": [
              "2327"
            ]
          },
          "metadata": {
            "tags": []
          },
          "execution_count": 24
        }
      ]
    },
    {
      "cell_type": "code",
      "metadata": {
        "id": "yKHPYO6qeceb",
        "outputId": "7afc5b04-4a29-4da4-921e-1eedc7107b29",
        "colab": {
          "base_uri": "https://localhost:8080/"
        }
      },
      "source": [
        "print(len(id) == len(id_unique))"
      ],
      "execution_count": 25,
      "outputs": [
        {
          "output_type": "stream",
          "text": [
            "False\n"
          ],
          "name": "stdout"
        }
      ]
    },
    {
      "cell_type": "markdown",
      "metadata": {
        "id": "-Rxo8f85flcU"
      },
      "source": [
        "hence, all the push events done have same user contributing multiple times\n",
        "\n",
        "- so, number of unique contributions are 2327 by the analysis done till now."
      ]
    },
    {
      "cell_type": "markdown",
      "metadata": {
        "id": "tS9SWA1khjJG"
      },
      "source": [
        "2. What's the distribution of the number of contributors among the all projects here? \n",
        " - what is the mean?\n",
        " - what is the standard deviation? \n",
        " - Is it a normal distribution?"
      ]
    },
    {
      "cell_type": "code",
      "metadata": {
        "id": "mH4GUIxCfjA6"
      },
      "source": [
        "from nltk import Counter"
      ],
      "execution_count": 26,
      "outputs": []
    },
    {
      "cell_type": "code",
      "metadata": {
        "id": "D9X6DIGViRa6"
      },
      "source": [
        "event_Count = Counter(df_GRA['type'])"
      ],
      "execution_count": 27,
      "outputs": []
    },
    {
      "cell_type": "code",
      "metadata": {
        "id": "EPwyX9NRjldK",
        "outputId": "f0ea3496-a36a-48d0-8020-c4dce0d7b8e9",
        "colab": {
          "base_uri": "https://localhost:8080/"
        }
      },
      "source": [
        "event_Count.most_common(3)"
      ],
      "execution_count": 28,
      "outputs": [
        {
          "output_type": "execute_result",
          "data": {
            "text/plain": [
              "[('PushEvent', 4280), ('CreateEvent', 815), ('IssueCommentEvent', 650)]"
            ]
          },
          "metadata": {
            "tags": []
          },
          "execution_count": 28
        }
      ]
    },
    {
      "cell_type": "markdown",
      "metadata": {
        "id": "lDy06xJWkEOb"
      },
      "source": [
        "As we can see,In the top 3 common events done in Github. We find that users did largely \"Push Event\" and the second one is \"Create Event\""
      ]
    },
    {
      "cell_type": "code",
      "metadata": {
        "id": "6BZBSuL3npL5"
      },
      "source": [
        "#Check wether we have entire columns in the whole data set with null data.\n",
        "null_data = pd.DataFrame()\n",
        "for i in df_GRA.columns:\n",
        "  if (len(df_GRA[i])== 0):\n",
        "    null_data.insert(0,i,df_GRA[i])"
      ],
      "execution_count": 29,
      "outputs": []
    },
    {
      "cell_type": "code",
      "metadata": {
        "id": "UPIZoBIhntT-",
        "outputId": "4553d086-ff95-4c5a-e42f-b3be2b026a2b",
        "colab": {
          "base_uri": "https://localhost:8080/"
        }
      },
      "source": [
        "len(null_data)\n",
        "## No we do not have entire data columns in the whole data set with null values."
      ],
      "execution_count": 30,
      "outputs": [
        {
          "output_type": "execute_result",
          "data": {
            "text/plain": [
              "0"
            ]
          },
          "metadata": {
            "tags": []
          },
          "execution_count": 30
        }
      ]
    },
    {
      "cell_type": "code",
      "metadata": {
        "id": "loJrPvo4oXNU",
        "outputId": "b1f6feaa-337e-4979-8bab-81cb2fae853b",
        "colab": {
          "base_uri": "https://localhost:8080/"
        }
      },
      "source": [
        "user_ID = [ ]\n",
        "repo_ID = [ ]\n",
        "for i in range(len(df_GRA)):\n",
        " if (df_GRA['type'][i] == 'PushEvent'):\n",
        "   user_ID.append(df_GRA['actor.id'][i])\n",
        "   repo_ID.append(df_GRA['repo.id'][i])\n",
        "import matplotlib.pyplot as plt\n",
        "from nltk import Counter\n",
        "count_ID = Counter(user_ID)\n",
        "count_ID.most_common(10)"
      ],
      "execution_count": 38,
      "outputs": [
        {
          "output_type": "execute_result",
          "data": {
            "text/plain": [
              "[(280212, 79),\n",
              " (2033581, 42),\n",
              " (367618, 35),\n",
              " (9201970, 29),\n",
              " (6158630, 24),\n",
              " (9452791, 24),\n",
              " (1684950, 20),\n",
              " (1181205, 18),\n",
              " (6214365, 18),\n",
              " (50891, 15)]"
            ]
          },
          "metadata": {
            "tags": []
          },
          "execution_count": 38
        }
      ]
    },
    {
      "cell_type": "markdown",
      "metadata": {
        "id": "bPqrDDCyLzlR"
      },
      "source": [
        "The above result shows the top 10 users who contributors for all the projects"
      ]
    },
    {
      "cell_type": "code",
      "metadata": {
        "id": "VYUUDKDXKxs-"
      },
      "source": [
        ""
      ],
      "execution_count": null,
      "outputs": []
    }
  ]
}