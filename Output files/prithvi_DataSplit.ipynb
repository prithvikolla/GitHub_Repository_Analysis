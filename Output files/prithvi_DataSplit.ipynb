{
 "cells": [
  {
   "cell_type": "code",
   "execution_count": 2,
   "metadata": {},
   "outputs": [],
   "source": [
    "import pandas as pd"
   ]
  },
  {
   "cell_type": "code",
   "execution_count": 3,
   "metadata": {},
   "outputs": [],
   "source": [
    "df  = pd.read_csv('searchrepo.csv')"
   ]
  },
  {
   "cell_type": "code",
   "execution_count": 4,
   "metadata": {},
   "outputs": [],
   "source": [
    "df1 = df[:2690]\n",
    "df2 = df[2691:5381]\n",
    "df3 = df[5382:8072]\n",
    "df4 = df[8073:10763]\n",
    "df5 = df[10764:13454]\n",
    "df6 = df[13455:16145]\n",
    "df7 = df[16146:18836]\n",
    "df8 = df[18837:21527]\n",
    "df9 = df[21528:24218]\n",
    "df10 = df[24219:26900]"
   ]
  },
  {
   "cell_type": "code",
   "execution_count": 5,
   "metadata": {},
   "outputs": [],
   "source": [
    "df1.to_csv(\"search1.csv\")"
   ]
  },
  {
   "cell_type": "code",
   "execution_count": 6,
   "metadata": {},
   "outputs": [],
   "source": [
    "df2.to_csv(\"search2.csv\")\n",
    "df3.to_csv(\"search3.csv\")\n",
    "df4.to_csv(\"search4.csv\")\n",
    "df5.to_csv(\"search5.csv\")\n",
    "df6.to_csv(\"search6.csv\")\n",
    "df7.to_csv(\"search7.csv\")\n",
    "df8.to_csv(\"search8.csv\")\n",
    "df9.to_csv(\"search9.csv\")\n",
    "df10.to_csv(\"search10.csv\")"
   ]
  },
  {
   "cell_type": "code",
   "execution_count": null,
   "metadata": {},
   "outputs": [],
   "source": []
  }
 ],
 "metadata": {
  "kernelspec": {
   "display_name": "Python 3",
   "language": "python",
   "name": "python3"
  },
  "language_info": {
   "codemirror_mode": {
    "name": "ipython",
    "version": 3
   },
   "file_extension": ".py",
   "mimetype": "text/x-python",
   "name": "python",
   "nbconvert_exporter": "python",
   "pygments_lexer": "ipython3",
   "version": "3.7.3"
  }
 },
 "nbformat": 4,
 "nbformat_minor": 2
}
